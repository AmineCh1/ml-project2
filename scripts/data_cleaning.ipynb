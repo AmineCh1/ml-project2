{
 "cells": [
  {
   "cell_type": "code",
   "execution_count": 1,
   "metadata": {},
   "outputs": [],
   "source": [
    "import re\n",
    "import itertools\n",
    "from helpers import *"
   ]
  },
  {
   "cell_type": "code",
   "execution_count": 5,
   "metadata": {},
   "outputs": [],
   "source": [
    "with open(data_path('train_neg.txt'), 'r') as f:\n",
    "    neg = f.readlines()\n",
    "with open(data_path('train_pos.txt'), 'r') as f:\n",
    "    pos = f.readlines()"
   ]
  },
  {
   "cell_type": "code",
   "execution_count": 6,
   "metadata": {},
   "outputs": [],
   "source": [
    "def replace_numbers(t):\n",
    "    '''\n",
    "    Replace number in the tweet by the string \"<number>\"\n",
    "    So we can make the difference with the word \"number\"\n",
    "    \n",
    "    '''\n",
    "    tweet = ''\n",
    "    words = t.split()\n",
    "    \n",
    "    for w in words:\n",
    "        if w.isdigit():\n",
    "            tweet += '<number> '\n",
    "        else: \n",
    "            tweet += w + ' '\n",
    "\n",
    "    return tweet.strip()"
   ]
  },
  {
   "cell_type": "code",
   "execution_count": 7,
   "metadata": {},
   "outputs": [
    {
     "name": "stdout",
     "output_type": "stream",
     "text": [
      "vinco tresorpack 6 ( difficulty 10 of 10 object : disassemble and reassemble the wooden pieces this beautiful wo ... <url>\n",
      "\n"
     ]
    },
    {
     "data": {
      "text/plain": [
       "'vinco tresorpack <number> ( difficulty <number> of <number> object : disassemble and reassemble the wooden pieces this beautiful wo ... <url>'"
      ]
     },
     "execution_count": 7,
     "metadata": {},
     "output_type": "execute_result"
    }
   ],
   "source": [
    "print(neg[0])\n",
    "replace_numbers(neg[0])"
   ]
  },
  {
   "cell_type": "code",
   "execution_count": 8,
   "metadata": {},
   "outputs": [],
   "source": [
    "def reduce_chars(t):\n",
    "    '''\n",
    "    Reduce the occurance of a same character in a word to a maximum of 2\n",
    "    \n",
    "    '''\n",
    "    tweet = ''\n",
    "    \n",
    "    for _, s in itertools.groupby(t):\n",
    "        tweet += ''.join(''.join(s)[:2]) #for _, s in itertools.groupby(t))\n",
    "        \n",
    "    return tweet"
   ]
  },
  {
   "cell_type": "code",
   "execution_count": 9,
   "metadata": {},
   "outputs": [
    {
     "data": {
      "text/plain": [
       "'boom braahh'"
      ]
     },
     "execution_count": 9,
     "metadata": {},
     "output_type": "execute_result"
    }
   ],
   "source": [
    "reduce_chars(\"booooooom braaaaahhhh\")"
   ]
  },
  {
   "cell_type": "code",
   "execution_count": 10,
   "metadata": {},
   "outputs": [],
   "source": [
    "def delete_user_and_url(t):\n",
    "    '''\n",
    "    Delete words \"<user>\" and \"<url>\" from the tweet\n",
    "    \n",
    "    '''\n",
    "    tweet = ''\n",
    "    words = t.split()\n",
    "    \n",
    "    for w in words:\n",
    "        if w == \"<user>\" or w == \"<url>\":\n",
    "            tweet += ''\n",
    "        else:\n",
    "            tweet += w + ' '\n",
    "            \n",
    "    return tweet.strip()"
   ]
  },
  {
   "cell_type": "code",
   "execution_count": 11,
   "metadata": {},
   "outputs": [
    {
     "data": {
      "text/plain": [
       "'Hey ! look at this link:'"
      ]
     },
     "execution_count": 11,
     "metadata": {},
     "output_type": "execute_result"
    }
   ],
   "source": [
    "delete_user_and_url(\"Hey <user> ! look at this link: <url>\")"
   ]
  },
  {
   "cell_type": "code",
   "execution_count": 12,
   "metadata": {},
   "outputs": [],
   "source": [
    "def delete_punctuation(t):\n",
    "    '''\n",
    "    Delete punctuation characters from the tweet\n",
    "    \n",
    "    '''\n",
    "    punctuation = \"[\\.\\,\\:\\;\\?\\!\\<\\>\\(\\)\\/]\"\n",
    "    \n",
    "    return ''.join(re.sub(punctuation, \"\", t)).strip()"
   ]
  },
  {
   "cell_type": "code",
   "execution_count": 13,
   "metadata": {},
   "outputs": [
    {
     "data": {
      "text/plain": [
       "'ce matin  je lui dis  hey  ça va toi'"
      ]
     },
     "execution_count": 13,
     "metadata": {},
     "output_type": "execute_result"
    }
   ],
   "source": [
    "delete_punctuation(\"ce matin , je lui dis : hey ! ça va toi ?\")"
   ]
  },
  {
   "cell_type": "code",
   "execution_count": 15,
   "metadata": {},
   "outputs": [],
   "source": [
    "contraction_dic = {\n",
    "    \"ain't\":\"is not\",\n",
    "    \"aint\":\"is not\",\n",
    "    \"amn't\":\"am not\",\n",
    "    \"amn't\":\"am not\",\n",
    "    \"amnt\":\"am not\",\n",
    "    \"aren't\":\"are not\",\n",
    "    \"arent\":\"are not\",\n",
    "    \"can't\":\"cannot\",\n",
    "    \"cant\":\"cannot\",\n",
    "    \"'cause\":\"because\",\n",
    "    \"couldn't\":\"could not\",\n",
    "    \"couldnt\":\"could not\",\n",
    "    \"couldn't've\":\"could not have\",\n",
    "    \"couldnt've\":\"could not have\",\n",
    "    \"could've\":\"could have\",\n",
    "    \"couldve\":\"could have\",\n",
    "    \"daren't\":\"dare not\",\n",
    "    \"darent\":\"dare not\",\n",
    "    \"daresn't\":\"dare not\",\n",
    "    \"daresnt\":\"dare not\",\n",
    "    \"dasn't\":\"dare not\",\n",
    "    \"dasnt\":\"dare not\",\n",
    "    \"didn't\":\"did not\",\n",
    "    \"didnt\":\"did not\",\n",
    "    \"doesn't\":\"does not\",\n",
    "    \"doesnt\":\"does not\",\n",
    "    \"don't\":\"do not\",\n",
    "    \"dont\":\"do not\",\n",
    "    \"e'er\":\"ever\",\n",
    "    \"eer\":\"ever\",\n",
    "    \"em\":\"them\",\n",
    "    \"everyone's\":\"everyone is\",\n",
    "    \"finna\":\"fixing to\",\n",
    "    \"gimme\":\"give me\",\n",
    "    \"gonna\":\"going to\",\n",
    "    \"gon't\":\"go not\",\n",
    "    \"gont\":\"go not\",\n",
    "    \"gotta\":\"got to\",\n",
    "    \"hadn't\":\"had not\",\n",
    "    \"hadnt\":\"had not\",\n",
    "    \"hasn't\":\"has not\",\n",
    "    \"hasnt\":\"has not\",\n",
    "    \"haven't\":\"have not\",\n",
    "    \"havent\":\"have not\",\n",
    "    \"he'd\":\"he would\",\n",
    "    \"hed\":\"he would\",\n",
    "    \"he'll\":\"he will\",\n",
    "    \"he's\":\"he is\",\n",
    "    \"hes\":\"he is\",\n",
    "    \"he've\":\"he have\",\n",
    "    \"heve\":\"he have\",\n",
    "    \"how'd\":\"how would\",\n",
    "    \"howd\":\"how would\",\n",
    "    \"how'll\":\"how will\",\n",
    "    \"how're\":\"how are\",\n",
    "    \"howre\":\"how are\",\n",
    "    \"how's\":\"how is\",\n",
    "    \"hows\":\"how is\",\n",
    "    \"i'd\":\"i would\",\n",
    "    \"i'll\":\"i will\",\n",
    "    \"i'm\":\"i am\",\n",
    "    \"im\":\"i am\",\n",
    "    \"i'm'a\":\"i am about to\",\n",
    "    \"ima\":\"i am about to\",\n",
    "    \"i'm'o\":\"i am going to\",\n",
    "    \"imo\":\"i am going to\",\n",
    "    \"isn't\":\"is not\",\n",
    "    \"isnt\":\"is not\",\n",
    "    \"it'd\":\"it would\",\n",
    "    \"itd\":\"it would\",\n",
    "    \"it'll\":\"it will\",\n",
    "    \"itll\":\"it will\",\n",
    "    \"it's\":\"it is\",\n",
    "    \"its\":\"it is\",\n",
    "    \"i've\":\"i have\",\n",
    "    \"ive\":\"i have\",\n",
    "    \"kinda\":\"kind of\",\n",
    "    \"let's\":\"let us\",\n",
    "    \"lets\":\"let us\",\n",
    "    \"mayn't\":\"may not\",\n",
    "    \"maynt\":\"may not\",\n",
    "    \"may've\":\"may have\",\n",
    "    \"mayve\":\"may have\",\n",
    "    \"mightn't\":\"might not\",\n",
    "    \"mightnt\":\"might not\",\n",
    "    \"might've\":\"might have\",\n",
    "    \"mightve\":\"might have\",\n",
    "    \"mustn't\":\"must not\",\n",
    "    \"mustnt\":\"must not\",\n",
    "    \"mustn't've\":\"must not have\",\n",
    "    \"mustnt've\":\"must not have\",\n",
    "    \"must've\":\"must have\",\n",
    "    \"mustve\":\"must have\",\n",
    "    \"needn't\":\"need not\",\n",
    "    \"neednt\":\"need not\",\n",
    "    \"ne'er\":\"never\",\n",
    "    \"o'\":\"of\",\n",
    "    \"o'er\":\"over\",\n",
    "    \"ol'\":\"old\",\n",
    "    \"oughtn't\":\"ought not\",\n",
    "    \"oughtnt\":\"ought not\",\n",
    "    \"shalln't\":\"shall not\",\n",
    "    \"shallnt\":\"shall not\",\n",
    "    \"shan't\":\"shall not\",\n",
    "    \"shant\":\"shall not\",\n",
    "    \"she'd\":\"she would\",\n",
    "    \"shed\":\"she would\",\n",
    "    \"she'll\":\"she will\",\n",
    "    \"shell\":\"she will\",\n",
    "    \"she's\":\"she is\",\n",
    "    \"shes\":\"she is\",\n",
    "    \"shouldn't\":\"should not\",\n",
    "    \"shouldnt\":\"should not\",\n",
    "    \"shouldn't've\":\"should not have\",\n",
    "    \"shouldnt've\":\"should not have\",\n",
    "    \"should've\":\"should have\",\n",
    "    \"shouldve\":\"should have\",\n",
    "    \"somebody's\":\"somebody is\",\n",
    "    \"someone's\":\"someone is\",\n",
    "    \"something's\":\"something is\",\n",
    "    \"that'd\":\"that would\",\n",
    "    \"thatd\":\"that would\",\n",
    "    \"that'll\":\"that will\",\n",
    "    \"thatll\":\"that will\",\n",
    "    \"that're\":\"that are\",\n",
    "    \"thatre\":\"that are\",\n",
    "    \"that's\":\"that is\",\n",
    "    \"thats\":\"that is\",\n",
    "    \"there'd\":\"there would\",\n",
    "    \"thered\":\"there would\",\n",
    "    \"there'll\":\"there will\",\n",
    "    \"therell\":\"there will\",\n",
    "    \"there're\":\"there are\",\n",
    "    \"therere\":\"there are\",\n",
    "    \"there's\":\"there is\",\n",
    "    \"theres\":\"there is\",\n",
    "    \"these're\":\"these are\",\n",
    "    \"thesere\":\"these are\",\n",
    "    \"they'd\":\"they would\",\n",
    "    \"theyd\":\"they would\",\n",
    "    \"they'll\":\"they will\",\n",
    "    \"theyll\":\"they will\",\n",
    "    \"they're\":\"they are\",\n",
    "    \"theyre\":\"they are\",\n",
    "    \"they've\":\"they have\",\n",
    "    \"theyve\":\"they have\",\n",
    "    \"this's\":\"this is\",\n",
    "    \"thiss\":\"this is\",\n",
    "    \"those're\":\"those are\",\n",
    "    \"thosere\":\"those are\",\n",
    "    \"'tis\":\"it is\",\n",
    "    \"'twas\":\"it was\",\n",
    "    \"wanna\":\"want to\",\n",
    "    \"wasn't\":\"was not\",\n",
    "    \"wasnt\":\"was not\",\n",
    "    \"we'd\":\"we would\",\n",
    "    \"we'd've\":\"we would have\",\n",
    "    \"we'll\":\"we will\",\n",
    "    \"we're\":\"we are\",\n",
    "    \"weren't\":\"were not\",\n",
    "    \"werent\":\"were not\",\n",
    "    \"we've\":\"we have\",\n",
    "    \"weve\":\"we have\",\n",
    "    \"what'd\":\"what did\",\n",
    "    \"whatd\":\"what did\",\n",
    "    \"what'll\":\"what will\",\n",
    "    \"whatll\":\"what will\",\n",
    "    \"what're\":\"what are\",\n",
    "    \"whatre\":\"what are\",\n",
    "    \"what's\":\"what is\",\n",
    "    \"whats\":\"what is\",\n",
    "    \"what've\":\"what have\",\n",
    "    \"whatve\":\"what have\",\n",
    "    \"when's\":\"when is\",\n",
    "    \"whens\":\"when is\",\n",
    "    \"where'd\":\"where did\",\n",
    "    \"whered\":\"where did\",\n",
    "    \"where're\":\"where are\",\n",
    "    \"wherere\":\"where are\",\n",
    "    \"where's\":\"where is\",\n",
    "    \"wheres\":\"where is\",\n",
    "    \"where've\":\"where have\",\n",
    "    \"whereve\":\"where have\",\n",
    "    \"which's\":\"which is\",\n",
    "    \"whichs\":\"which is\",\n",
    "    \"who'd\":\"who would\",\n",
    "    \"whod\":\"who would\",\n",
    "    \"who'd've\":\"who would have\",\n",
    "    \"whod've\":\"who would have\",\n",
    "    \"who'll\":\"who will\",\n",
    "    \"wholl\":\"who will\",\n",
    "    \"who're\":\"who are\",\n",
    "    \"who's\":\"who is\",\n",
    "    \"who've\":\"who have\",\n",
    "    \"whove\":\"who have\",\n",
    "    \"why'd\":\"why did\",\n",
    "    \"whyd\":\"why did\",\n",
    "    \"why're\":\"why are\",\n",
    "    \"whyre\":\"why are\",\n",
    "    \"why's\":\"why is\",\n",
    "    \"won't\":\"will not\",\n",
    "    \"wont\":\"will not\",\n",
    "    \"wouldn't\":\"would not\",\n",
    "    \"wouldnt\":\"would not\",\n",
    "    \"would've\":\"would have\",\n",
    "    \"wouldve\":\"would have\",\n",
    "    \"y'all\":\"you all\",\n",
    "    \"yall\":\"you all\",\n",
    "    \"you'd\":\"you would\",\n",
    "    \"youd\": \"you would\",\n",
    "    \"you'll\":\"you will\",\n",
    "    \"youll\":\"you will\",\n",
    "    \"you're\":\"you are\",\n",
    "    \"youre\":\"you are\",\n",
    "    \"you've\":\"you have\",\n",
    "    \"youve\":\"you have\",\n",
    "    \"whatcha\":\"What are you\",\n",
    "    \"whut\":\"what\",\n",
    "    \"luv\":\"love\",\n",
    "    \"ya\":\"you\",\n",
    "    \"sux\":\"sucks\",\n",
    "    \"k\":\"ok\"\n",
    "}"
   ]
  },
  {
   "cell_type": "code",
   "execution_count": 16,
   "metadata": {},
   "outputs": [],
   "source": [
    "def decontracted(t, dic):\n",
    "    # specific\n",
    "    t = re.sub(r\"won\\'t\", \"will not\", t)\n",
    "    t = re.sub(r\"can\\'t\", \"can not\", t)\n",
    "\n",
    "    # general\n",
    "    t = re.sub(r\"n\\'t\", \" not\", t)\n",
    "    t = re.sub(r\"\\'re\", \" are\", t)\n",
    "    t = re.sub(r\"\\'s\", \" is\", t)\n",
    "    t = re.sub(r\"\\'d\", \" would\", t)\n",
    "    t = re.sub(r\"\\'ll\", \" will\", t)\n",
    "    t = re.sub(r\"\\'t\", \" not\", t)\n",
    "    t = re.sub(r\"\\'ve\", \" have\", t)\n",
    "    t = re.sub(r\"\\'m\", \" am\", t)\n",
    "\n",
    "    #\n",
    "    # USE REGEX? OR ONLY MANUALLY CREATED DICTIONARY?\n",
    "    #\n",
    "    \n",
    "    tweet = ''\n",
    "    t = t.replace(\"’\",\"'\")\n",
    "    words = t.split()\n",
    "    \n",
    "    for w in words:\n",
    "        tweet += (dic[w] if w in dic else w) + ' '\n",
    "    \n",
    "    return tweet.strip()"
   ]
  },
  {
   "cell_type": "code",
   "execution_count": 17,
   "metadata": {},
   "outputs": [
    {
     "data": {
      "text/plain": [
       "'Hey I am going to go, she is here, you would like to join ? love you bro'"
      ]
     },
     "execution_count": 17,
     "metadata": {},
     "output_type": "execute_result"
    }
   ],
   "source": [
    "decontracted(\"Hey I'm gonna go, she's here, you'd like to join ? luv ya bro\", contraction_dic)"
   ]
  },
  {
   "cell_type": "code",
   "execution_count": null,
   "metadata": {},
   "outputs": [],
   "source": []
  }
 ],
 "metadata": {
  "kernelspec": {
   "display_name": "Python 3",
   "language": "python",
   "name": "python3"
  },
  "language_info": {
   "codemirror_mode": {
    "name": "ipython",
    "version": 3
   },
   "file_extension": ".py",
   "mimetype": "text/x-python",
   "name": "python",
   "nbconvert_exporter": "python",
   "pygments_lexer": "ipython3",
   "version": "3.8.3"
  }
 },
 "nbformat": 4,
 "nbformat_minor": 2
}
