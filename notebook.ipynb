{
 "cells": [
  {
   "cell_type": "markdown",
   "metadata": {
    "id": "8W60K_dDEpvB"
   },
   "source": [
    "## Google Drive setup"
   ]
  },
  {
   "cell_type": "code",
   "execution_count": 23,
   "metadata": {
    "colab": {
     "base_uri": "https://localhost:8080/"
    },
    "executionInfo": {
     "elapsed": 599,
     "status": "ok",
     "timestamp": 1606469102358,
     "user": {
      "displayName": "Antoine Clivaz",
      "photoUrl": "",
      "userId": "05493898807172304624"
     },
     "user_tz": -60
    },
    "id": "1HCWUeqnH9Dt",
    "outputId": "def7d3f6-f639-44c5-ee3c-2854bba83249"
   },
   "outputs": [],
   "source": [
    "# from google.colab import drive\n",
    "# drive.mount('/content/drive/')"
   ]
  },
  {
   "cell_type": "code",
   "execution_count": 24,
   "metadata": {
    "colab": {
     "base_uri": "https://localhost:8080/"
    },
    "executionInfo": {
     "elapsed": 638,
     "status": "ok",
     "timestamp": 1606469109018,
     "user": {
      "displayName": "Antoine Clivaz",
      "photoUrl": "",
      "userId": "05493898807172304624"
     },
     "user_tz": -60
    },
    "id": "nlAH_wUCPI0a",
    "outputId": "ba93e676-3b43-48f5-971a-c62657c9b45e"
   },
   "outputs": [],
   "source": [
    "# %cd \"/content/drive/MyDrive/colab_not\"  "
   ]
  },
  {
   "cell_type": "markdown",
   "metadata": {
    "id": "8W60K_dDEpvB"
   },
   "source": [
    "## Local setup"
   ]
  },
  {
   "cell_type": "code",
   "execution_count": 25,
   "metadata": {
    "colab": {
     "base_uri": "https://localhost:8080/"
    },
    "executionInfo": {
     "elapsed": 599,
     "status": "ok",
     "timestamp": 1606469102358,
     "user": {
      "displayName": "Antoine Clivaz",
      "photoUrl": "",
      "userId": "05493898807172304624"
     },
     "user_tz": -60
    },
    "id": "1HCWUeqnH9Dt",
    "outputId": "def7d3f6-f639-44c5-ee3c-2854bba83249"
   },
   "outputs": [],
   "source": [
    "from os import path, pardir\n",
    "import pathlib\n",
    "import sys\n",
    "\n",
    "# Add the \"scripts\" folder to the PATH\n",
    "scripts = path.join(pathlib.Path(os.path.abspath('')), 'scripts')\n",
    "if module_path not in sys.path:\n",
    "    sys.path.append(scripts)\n",
    "\n",
    "# Import our libraries\n",
    "from helpers import data_path\n",
    "import data_cleaning as dc"
   ]
  },
  {
   "cell_type": "markdown",
   "metadata": {},
   "source": [
    "## Project II"
   ]
  },
  {
   "cell_type": "code",
   "execution_count": 26,
   "metadata": {
    "executionInfo": {
     "elapsed": 683,
     "status": "ok",
     "timestamp": 1606469110257,
     "user": {
      "displayName": "Antoine Clivaz",
      "photoUrl": "",
      "userId": "05493898807172304624"
     },
     "user_tz": -60
    },
    "id": "uX_U_vG5qMbu"
   },
   "outputs": [],
   "source": [
    "from tensorflow.keras.layers.experimental.preprocessing import TextVectorization\n",
    "import tensorflow as tf\n",
    "import numpy as np\n",
    "import string\n",
    "import pandas as pd"
   ]
  },
  {
   "cell_type": "code",
   "execution_count": 27,
   "metadata": {
    "executionInfo": {
     "elapsed": 643,
     "status": "ok",
     "timestamp": 1606469111388,
     "user": {
      "displayName": "Antoine Clivaz",
      "photoUrl": "",
      "userId": "05493898807172304624"
     },
     "user_tz": -60
    },
    "id": "rBnyy45HfT9g"
   },
   "outputs": [],
   "source": [
    "def split_set(data_to_split, ratio=0.8):\n",
    "    mask = np.random.rand(len(data_to_split)) < ratio\n",
    "    return [data_to_split[mask].reset_index(drop=True), data_to_split[~mask].reset_index(drop=True)]"
   ]
  },
  {
   "cell_type": "code",
   "execution_count": 28,
   "metadata": {
    "colab": {
     "base_uri": "https://localhost:8080/"
    },
    "executionInfo": {
     "elapsed": 3388,
     "status": "ok",
     "timestamp": 1606469115720,
     "user": {
      "displayName": "Antoine Clivaz",
      "photoUrl": "",
      "userId": "05493898807172304624"
     },
     "user_tz": -60
    },
    "id": "q3qtrnOCqMbv",
    "outputId": "54ed7acc-619b-480b-a126-9220fc930492"
   },
   "outputs": [
    {
     "name": "stdout",
     "output_type": "stream",
     "text": [
      "Number of batches in raw_train_ds: 283\n",
      "Number of batches in raw_val_ds: 71\n"
     ]
    }
   ],
   "source": [
    "batch_size = 512\n",
    "\n",
    "\n",
    "raw_train_pos =pd.read_table(\"data/train/train_pos_clean.txt\", sep = \"\\n\", header=None,quoting= 3)\n",
    "raw_train_pos['pred'] = 1\n",
    "\n",
    "raw_train_neg =pd.read_table(\"data/train/train_neg_clean.txt\", sep = \"\\n\", header=None, quoting = 3)\n",
    "raw_train_neg['pred'] = 0\n",
    "\n",
    "# Form training data and remove duplicates\n",
    "raw_train = pd.concat((raw_train_neg,raw_train_pos))\n",
    "raw_train.drop_duplicates(inplace=True)\n",
    "\n",
    "# Separating training and validation data\n",
    "\n",
    "raw_train_tr,raw_train_val  = split_set(raw_train.sample(frac=1,random_state=0))\n",
    "target_train_tr = raw_train_tr.pop('pred')\n",
    "target_train_val = raw_train_val.pop('pred')\n",
    "\n",
    "#Turning Pandas dataframes into Tensorflow datasets\n",
    "raw_train_ds = tf.data.Dataset.from_tensor_slices((np.squeeze(raw_train_tr.values), target_train_tr.values))\n",
    "raw_val_ds = tf.data.Dataset.from_tensor_slices((np.squeeze(raw_train_val.values),target_train_val.values))\n",
    "\n",
    "\n",
    "#Batchify data\n",
    "raw_train_ds = raw_train_ds.batch(batch_size=batch_size)\n",
    "raw_val_ds = raw_val_ds.batch(batch_size=batch_size)\n",
    "\n",
    "print(\n",
    "    \"Number of batches in raw_train_ds: %d\"\n",
    "    % tf.data.experimental.cardinality(raw_train_ds)\n",
    ")\n",
    "print(\n",
    "    \"Number of batches in raw_val_ds: %d\" % tf.data.experimental.cardinality(raw_val_ds)\n",
    ")"
   ]
  },
  {
   "cell_type": "code",
   "execution_count": 30,
   "metadata": {
    "executionInfo": {
     "elapsed": 629,
     "status": "ok",
     "timestamp": 1606469118576,
     "user": {
      "displayName": "Antoine Clivaz",
      "photoUrl": "",
      "userId": "05493898807172304624"
     },
     "user_tz": -60
    },
    "id": "TLytqsGkqMbw"
   },
   "outputs": [],
   "source": [
    "def remove_skips(input_data):\n",
    "    return tf.strings.regex_replace(input_data, \"\\n\", \" \")"
   ]
  },
  {
   "cell_type": "code",
   "execution_count": 33,
   "metadata": {
    "executionInfo": {
     "elapsed": 1004,
     "status": "ok",
     "timestamp": 1606469120496,
     "user": {
      "displayName": "Antoine Clivaz",
      "photoUrl": "",
      "userId": "05493898807172304624"
     },
     "user_tz": -60
    },
    "id": "27RDlPwjqMbw"
   },
   "outputs": [],
   "source": [
    "# Keep only text\n",
    "text_ds = raw_train_ds.map(lambda x, y: x) "
   ]
  },
  {
   "cell_type": "code",
   "execution_count": 34,
   "metadata": {
    "colab": {
     "base_uri": "https://localhost:8080/"
    },
    "executionInfo": {
     "elapsed": 703,
     "status": "ok",
     "timestamp": 1606469121701,
     "user": {
      "displayName": "Antoine Clivaz",
      "photoUrl": "",
      "userId": "05493898807172304624"
     },
     "user_tz": -60
    },
    "id": "EKUaIGmKW5Da",
    "outputId": "9bb1bfc1-da98-4ffe-beb5-1be994922e3a"
   },
   "outputs": [
    {
     "data": {
      "text/plain": [
       "tensorflow.python.data.ops.dataset_ops.MapDataset"
      ]
     },
     "execution_count": 34,
     "metadata": {},
     "output_type": "execute_result"
    }
   ],
   "source": [
    "type(text_ds)"
   ]
  },
  {
   "cell_type": "code",
   "execution_count": 35,
   "metadata": {
    "colab": {
     "base_uri": "https://localhost:8080/"
    },
    "executionInfo": {
     "elapsed": 413,
     "status": "ok",
     "timestamp": 1606469122494,
     "user": {
      "displayName": "Antoine Clivaz",
      "photoUrl": "",
      "userId": "05493898807172304624"
     },
     "user_tz": -60
    },
    "id": "PD9eowkkqMbw",
    "outputId": "24a28333-3044-474c-ba34-b23453216192"
   },
   "outputs": [
    {
     "name": "stdout",
     "output_type": "stream",
     "text": [
      "Num GPUs Available:  0\n"
     ]
    }
   ],
   "source": [
    "print(\"Num GPUs Available: \", len(tf.config.experimental.list_physical_devices('GPU')))"
   ]
  },
  {
   "cell_type": "code",
   "execution_count": 36,
   "metadata": {
    "executionInfo": {
     "elapsed": 3380,
     "status": "ok",
     "timestamp": 1606469126336,
     "user": {
      "displayName": "Antoine Clivaz",
      "photoUrl": "",
      "userId": "05493898807172304624"
     },
     "user_tz": -60
    },
    "id": "zsWIcn-bqMbw"
   },
   "outputs": [],
   "source": [
    "max_features = len(raw_train)\n",
    "embedding_dim = 128\n",
    "sequence_length = 280\n",
    "\n",
    "\n",
    "vectorize_layer = TextVectorization(\n",
    "    max_tokens=max_features,\n",
    "    output_mode=\"int\",\n",
    "    output_sequence_length=sequence_length,\n",
    ")\n",
    "\n",
    "vectorize_layer.adapt(text_ds)"
   ]
  },
  {
   "cell_type": "code",
   "execution_count": 37,
   "metadata": {
    "executionInfo": {
     "elapsed": 691,
     "status": "ok",
     "timestamp": 1606469128011,
     "user": {
      "displayName": "Antoine Clivaz",
      "photoUrl": "",
      "userId": "05493898807172304624"
     },
     "user_tz": -60
    },
    "id": "5tDrVkT7qMbw"
   },
   "outputs": [],
   "source": [
    "def vectorize_text(text, label):\n",
    "    text = tf.expand_dims(text, -1)\n",
    "    return vectorize_layer(text), label\n",
    "\n",
    "\n",
    "# Vectorize the data.\n",
    "train_ds = raw_train_ds.map(vectorize_text)\n",
    "val_ds = raw_val_ds.map(vectorize_text)\n",
    "# test_ds = raw_test_ds.map(vectorize_text)\n",
    "\n",
    "# Do async prefetching / buffering of the data for best performance on GPU.\n",
    "train_ds = train_ds.cache().prefetch(buffer_size=10)\n",
    "val_ds = val_ds.cache().prefetch(buffer_size=10)\n",
    "# test_ds = test_ds.cache().prefetch(buffer_size=10)"
   ]
  },
  {
   "cell_type": "code",
   "execution_count": 38,
   "metadata": {
    "executionInfo": {
     "elapsed": 976,
     "status": "ok",
     "timestamp": 1606469130402,
     "user": {
      "displayName": "Antoine Clivaz",
      "photoUrl": "",
      "userId": "05493898807172304624"
     },
     "user_tz": -60
    },
    "id": "QGTfB9u6Ya7W"
   },
   "outputs": [],
   "source": [
    "from tensorflow.keras import layers  \n",
    "\n",
    "# A integer input for vocab indices.\n",
    "inputs = tf.keras.Input(shape=(None,), dtype=\"int64\")\n",
    "\n",
    "# Next, we add a layer to map those vocab indices into a space of dimensionality\n",
    "# 'embedding_dim'.\n",
    "x = layers.Embedding(max_features, embedding_dim)(inputs)\n",
    "x = layers.Dropout(0.5)(x)\n",
    "\n",
    "# Conv1D + global max pooling\n",
    "x = layers.Conv1D(128, 7, padding=\"valid\", activation=\"relu\", strides=3)(x)\n",
    "x = layers.Conv1D(128, 7, padding=\"valid\", activation=\"relu\", strides=3)(x)\n",
    "x = layers.GlobalMaxPooling1D()(x)\n",
    "\n",
    "# We add a vanilla hidden layer:\n",
    "x = layers.Dense(128, activation=\"relu\")(x)\n",
    "x = layers.Dropout(0.5)(x)\n",
    "\n",
    "# We project onto a single unit output layer, and squash it with a sigmoid:\n",
    "predictions = layers.Dense(1, activation=\"sigmoid\", name=\"predictions\")(x)\n",
    "\n",
    "model = tf.keras.Model(inputs, predictions)\n",
    "\n",
    "# Compile the model with binary crossentropy loss and an adam optimizer.\n",
    "model.compile(loss=\"binary_crossentropy\", optimizer=\"adam\", metrics=[\"accuracy\"])"
   ]
  },
  {
   "cell_type": "markdown",
   "metadata": {
    "id": "-RmyqRkhf8tx"
   },
   "source": [
    "Importing the test data."
   ]
  },
  {
   "cell_type": "code",
   "execution_count": 39,
   "metadata": {
    "colab": {
     "base_uri": "https://localhost:8080/"
    },
    "executionInfo": {
     "elapsed": 1697115,
     "status": "ok",
     "timestamp": 1606470830147,
     "user": {
      "displayName": "Antoine Clivaz",
      "photoUrl": "",
      "userId": "05493898807172304624"
     },
     "user_tz": -60
    },
    "id": "JAVWJUOhaU1U",
    "outputId": "20c13954-cfac-46c3-8315-12fe4c680492"
   },
   "outputs": [
    {
     "name": "stdout",
     "output_type": "stream",
     "text": [
      "Epoch 1/4\n",
      "283/283 [==============================] - 143s 505ms/step - loss: 0.5060 - accuracy: 0.7373 - val_loss: 0.4271 - val_accuracy: 0.7997\n",
      "Epoch 2/4\n",
      "283/283 [==============================] - 150s 529ms/step - loss: 0.3865 - accuracy: 0.8251 - val_loss: 0.4257 - val_accuracy: 0.7987\n",
      "Epoch 3/4\n",
      "283/283 [==============================] - 144s 510ms/step - loss: 0.3235 - accuracy: 0.8589 - val_loss: 0.4502 - val_accuracy: 0.7917\n",
      "Epoch 4/4\n",
      "283/283 [==============================] - 143s 505ms/step - loss: 0.2626 - accuracy: 0.8896 - val_loss: 0.5164 - val_accuracy: 0.7834\n"
     ]
    },
    {
     "data": {
      "text/plain": [
       "<tensorflow.python.keras.callbacks.History at 0x7f8e4409ba60>"
      ]
     },
     "execution_count": 39,
     "metadata": {},
     "output_type": "execute_result"
    }
   ],
   "source": [
    "epochs = 4\n",
    "# Fit the model using the train and test datasets.\n",
    "model.fit(train_ds, validation_data=val_ds, epochs=epochs)"
   ]
  },
  {
   "cell_type": "code",
   "execution_count": 40,
   "metadata": {
    "executionInfo": {
     "elapsed": 661,
     "status": "ok",
     "timestamp": 1606471407424,
     "user": {
      "displayName": "Antoine Clivaz",
      "photoUrl": "",
      "userId": "05493898807172304624"
     },
     "user_tz": -60
    },
    "id": "3Y1buWTWqWUa"
   },
   "outputs": [],
   "source": [
    "test_ds = tf.data.TextLineDataset(\"data/test/test_data_cl.txt\")"
   ]
  },
  {
   "cell_type": "code",
   "execution_count": 41,
   "metadata": {
    "executionInfo": {
     "elapsed": 730,
     "status": "ok",
     "timestamp": 1606471408890,
     "user": {
      "displayName": "Antoine Clivaz",
      "photoUrl": "",
      "userId": "05493898807172304624"
     },
     "user_tz": -60
    },
    "id": "w00i1zxKrZI_"
   },
   "outputs": [],
   "source": [
    "def vectorize_text_test(text):\n",
    "  text = tf.expand_dims(text, -1)\n",
    "  return vectorize_layer(text)\n",
    "\n",
    "test_ds = test_ds.map(vectorize_text_test)\n",
    "\n",
    "test_ds = test_ds.cache().prefetch(buffer_size=10)"
   ]
  },
  {
   "cell_type": "code",
   "execution_count": 42,
   "metadata": {
    "executionInfo": {
     "elapsed": 21335,
     "status": "ok",
     "timestamp": 1606471430973,
     "user": {
      "displayName": "Antoine Clivaz",
      "photoUrl": "",
      "userId": "05493898807172304624"
     },
     "user_tz": -60
    },
    "id": "VTETIcM8qRXZ"
   },
   "outputs": [],
   "source": [
    "preds = model.predict(test_ds)"
   ]
  },
  {
   "cell_type": "code",
   "execution_count": 43,
   "metadata": {
    "id": "mDvNAkDUJF72"
   },
   "outputs": [],
   "source": [
    "preds = np.where(preds > 0.5, 1, -1)"
   ]
  },
  {
   "cell_type": "code",
   "execution_count": 45,
   "metadata": {
    "colab": {
     "base_uri": "https://localhost:8080/"
    },
    "executionInfo": {
     "elapsed": 896,
     "status": "ok",
     "timestamp": 1606336421802,
     "user": {
      "displayName": "Amine Ch",
      "photoUrl": "",
      "userId": "16292592810935337482"
     },
     "user_tz": -60
    },
    "id": "wpFRa31zltiL",
    "outputId": "4075e0fd-6845-4355-81f0-399fe3722993"
   },
   "outputs": [
    {
     "name": "stdout",
     "output_type": "stream",
     "text": [
      "Done. Predictions can be found in data/preds.csv.\n"
     ]
    }
   ],
   "source": [
    "preds_path = \"predictions/preds.csv\"\n",
    "with open(preds_path, \"w\") as f:\n",
    "    f.write(\"Id,Prediction\\n\")\n",
    "    for i, y in enumerate(preds):\n",
    "        f.write(str(i + 1) + \",\" + str(int(y)) + \"\\n\")\n",
    "print(f\"Done. Predictions can be found in {preds_path}.\")"
   ]
  },
  {
   "cell_type": "code",
   "execution_count": null,
   "metadata": {},
   "outputs": [],
   "source": []
  }
 ],
 "metadata": {
  "accelerator": "TPU",
  "colab": {
   "collapsed_sections": [],
   "name": "project2_monday_23.ipynb",
   "provenance": [
    {
     "file_id": "1EDUdYe663AQXpMGF6Koh9p8iluW1pWp4",
     "timestamp": 1606154618402
    }
   ]
  },
  "kernelspec": {
   "display_name": "Python 3",
   "language": "python",
   "name": "python3"
  },
  "language_info": {
   "codemirror_mode": {
    "name": "ipython",
    "version": 3
   },
   "file_extension": ".py",
   "mimetype": "text/x-python",
   "name": "python",
   "nbconvert_exporter": "python",
   "pygments_lexer": "ipython3",
   "version": "3.8.3"
  }
 },
 "nbformat": 4,
 "nbformat_minor": 1
}
