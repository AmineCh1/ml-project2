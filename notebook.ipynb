{
 "cells": [
  {
   "cell_type": "markdown",
   "metadata": {
    "id": "8W60K_dDEpvB"
   },
   "source": [
    "## Google Drive setup"
   ]
  },
  {
   "cell_type": "code",
   "execution_count": 1,
   "metadata": {
    "colab": {
     "base_uri": "https://localhost:8080/"
    },
    "executionInfo": {
     "elapsed": 599,
     "status": "ok",
     "timestamp": 1606469102358,
     "user": {
      "displayName": "Antoine Clivaz",
      "photoUrl": "",
      "userId": "05493898807172304624"
     },
     "user_tz": -60
    },
    "id": "1HCWUeqnH9Dt",
    "outputId": "def7d3f6-f639-44c5-ee3c-2854bba83249"
   },
   "outputs": [],
   "source": [
    "# from google.colab import drive\n",
    "# drive.mount('/content/drive/')"
   ]
  },
  {
   "cell_type": "code",
   "execution_count": 2,
   "metadata": {
    "colab": {
     "base_uri": "https://localhost:8080/"
    },
    "executionInfo": {
     "elapsed": 638,
     "status": "ok",
     "timestamp": 1606469109018,
     "user": {
      "displayName": "Antoine Clivaz",
      "photoUrl": "",
      "userId": "05493898807172304624"
     },
     "user_tz": -60
    },
    "id": "nlAH_wUCPI0a",
    "outputId": "ba93e676-3b43-48f5-971a-c62657c9b45e"
   },
   "outputs": [],
   "source": [
    "# %cd \"/content/drive/MyDrive/colab_not\"  "
   ]
  },
  {
   "cell_type": "markdown",
   "metadata": {
    "id": "8W60K_dDEpvB"
   },
   "source": [
    "## Local setup"
   ]
  },
  {
   "cell_type": "code",
   "execution_count": 8,
   "metadata": {
    "colab": {
     "base_uri": "https://localhost:8080/"
    },
    "executionInfo": {
     "elapsed": 599,
     "status": "ok",
     "timestamp": 1606469102358,
     "user": {
      "displayName": "Antoine Clivaz",
      "photoUrl": "",
      "userId": "05493898807172304624"
     },
     "user_tz": -60
    },
    "id": "1HCWUeqnH9Dt",
    "outputId": "def7d3f6-f639-44c5-ee3c-2854bba83249"
   },
   "outputs": [],
   "source": [
    "import os\n",
    "import sys\n",
    "from os import path, pardir\n",
    "import pathlib\n",
    "\n",
    "# Add the \"scripts\" folder to the PATH\n",
    "scripts = path.join(pathlib.Path(os.path.abspath('')), 'scripts')\n",
    "if scripts not in sys.path:\n",
    "    sys.path.append(scripts)\n",
    "\n",
    "# Import our libraries\n",
    "from helpers import data_path\n",
    "import data_cleaning as dc"
   ]
  },
  {
   "cell_type": "markdown",
   "metadata": {},
   "source": [
    "## Project II"
   ]
  },
  {
   "cell_type": "code",
   "execution_count": 34,
   "metadata": {
    "executionInfo": {
     "elapsed": 683,
     "status": "ok",
     "timestamp": 1606469110257,
     "user": {
      "displayName": "Antoine Clivaz",
      "photoUrl": "",
      "userId": "05493898807172304624"
     },
     "user_tz": -60
    },
    "id": "uX_U_vG5qMbu"
   },
   "outputs": [
    {
     "ename": "ModuleNotFoundError",
     "evalue": "No module named 'keras'",
     "output_type": "error",
     "traceback": [
      "\u001b[0;31m---------------------------------------------------------------------------\u001b[0m",
      "\u001b[0;31mModuleNotFoundError\u001b[0m                       Traceback (most recent call last)",
      "\u001b[0;32m<ipython-input-34-4521372399ab>\u001b[0m in \u001b[0;36m<module>\u001b[0;34m\u001b[0m\n\u001b[1;32m      1\u001b[0m \u001b[0;32mimport\u001b[0m \u001b[0mtensorflow\u001b[0m \u001b[0;32mas\u001b[0m \u001b[0mtf\u001b[0m\u001b[0;34m\u001b[0m\u001b[0;34m\u001b[0m\u001b[0m\n\u001b[0;32m----> 2\u001b[0;31m \u001b[0;32mfrom\u001b[0m \u001b[0mkeras\u001b[0m\u001b[0;34m.\u001b[0m\u001b[0mlayers\u001b[0m\u001b[0;34m.\u001b[0m\u001b[0mexperimental\u001b[0m\u001b[0;34m.\u001b[0m\u001b[0mpreprocessing\u001b[0m \u001b[0;32mimport\u001b[0m \u001b[0mTextVectorization\u001b[0m\u001b[0;34m\u001b[0m\u001b[0;34m\u001b[0m\u001b[0m\n\u001b[0m\u001b[1;32m      3\u001b[0m \u001b[0;32mfrom\u001b[0m \u001b[0mkeras\u001b[0m\u001b[0;34m.\u001b[0m\u001b[0mregularizers\u001b[0m \u001b[0;32mimport\u001b[0m \u001b[0ml2\u001b[0m\u001b[0;34m\u001b[0m\u001b[0;34m\u001b[0m\u001b[0m\n\u001b[1;32m      4\u001b[0m \u001b[0;32mimport\u001b[0m \u001b[0mnumpy\u001b[0m \u001b[0;32mas\u001b[0m \u001b[0mnp\u001b[0m\u001b[0;34m\u001b[0m\u001b[0;34m\u001b[0m\u001b[0m\n\u001b[1;32m      5\u001b[0m \u001b[0;32mimport\u001b[0m \u001b[0mstring\u001b[0m\u001b[0;34m\u001b[0m\u001b[0;34m\u001b[0m\u001b[0m\n",
      "\u001b[0;31mModuleNotFoundError\u001b[0m: No module named 'keras'"
     ]
    }
   ],
   "source": [
    "import tensorflow as tf\n",
    "from keras.layers.experimental.preprocessing import TextVectorization\n",
    "from keras.regularizers import l2\n",
    "import numpy as np\n",
    "import string\n",
    "import pandas as pd"
   ]
  },
  {
   "cell_type": "code",
   "execution_count": 10,
   "metadata": {
    "executionInfo": {
     "elapsed": 643,
     "status": "ok",
     "timestamp": 1606469111388,
     "user": {
      "displayName": "Antoine Clivaz",
      "photoUrl": "",
      "userId": "05493898807172304624"
     },
     "user_tz": -60
    },
    "id": "rBnyy45HfT9g"
   },
   "outputs": [],
   "source": [
    "def split_set(data_to_split, ratio=0.8):\n",
    "    mask = np.random.rand(len(data_to_split)) < ratio\n",
    "    return [data_to_split[mask].reset_index(drop=True), data_to_split[~mask].reset_index(drop=True)]"
   ]
  },
  {
   "cell_type": "code",
   "execution_count": 11,
   "metadata": {
    "colab": {
     "base_uri": "https://localhost:8080/"
    },
    "executionInfo": {
     "elapsed": 3388,
     "status": "ok",
     "timestamp": 1606469115720,
     "user": {
      "displayName": "Antoine Clivaz",
      "photoUrl": "",
      "userId": "05493898807172304624"
     },
     "user_tz": -60
    },
    "id": "q3qtrnOCqMbv",
    "outputId": "54ed7acc-619b-480b-a126-9220fc930492"
   },
   "outputs": [
    {
     "name": "stdout",
     "output_type": "stream",
     "text": [
      "Number of batches in raw_train_ds: 2257\n",
      "Number of batches in raw_val_ds: 565\n"
     ]
    }
   ],
   "source": [
    "batch_size = 64\n",
    "\n",
    "raw_train_pos = pd.read_table(\"data/train/train_pos_clean.txt\", sep = \"\\n\", header=None,quoting= 3)\n",
    "raw_train_pos['pred'] = 1\n",
    "\n",
    "raw_train_neg = pd.read_table(\"data/train/train_neg_clean.txt\", sep = \"\\n\", header=None, quoting = 3)\n",
    "raw_train_neg['pred'] = 0\n",
    "\n",
    "\n",
    "#########################################################################\n",
    "########### TESTING ONLY - Take only 25% of the whole dataset ###########\n",
    "#########################################################################\n",
    "# pos_total = len(raw_train_pos)\n",
    "# neg_total = len(raw_train_neg)\n",
    "# raw_train_pos = raw_train_pos[:int(pos_total * .25)]\n",
    "# raw_train_neg = raw_train_neg[:int(neg_total * .25)]\n",
    "#########################################################################\n",
    "#########################################################################\n",
    "#########################################################################\n",
    "\n",
    "# Form training data and remove duplicates\n",
    "raw_train = pd.concat((raw_train_neg,raw_train_pos))\n",
    "raw_train.drop_duplicates(inplace=True)\n",
    "\n",
    "# Separating training and validation data\n",
    "raw_train_tr,raw_train_val  = split_set(raw_train.sample(frac=1,random_state=0))\n",
    "target_train_tr = raw_train_tr.pop('pred')\n",
    "target_train_val = raw_train_val.pop('pred')\n",
    "\n",
    "# Turning Pandas dataframes into Tensorflow datasets\n",
    "raw_train_ds = tf.data.Dataset.from_tensor_slices((np.squeeze(raw_train_tr.values), target_train_tr.values))\n",
    "raw_val_ds = tf.data.Dataset.from_tensor_slices((np.squeeze(raw_train_val.values),target_train_val.values))\n",
    "\n",
    "\n",
    "# Batchify data\n",
    "raw_train_ds = raw_train_ds.batch(batch_size=batch_size)\n",
    "raw_val_ds = raw_val_ds.batch(batch_size=batch_size)\n",
    "\n",
    "print(\n",
    "    \"Number of batches in raw_train_ds: %d\"\n",
    "    % tf.data.experimental.cardinality(raw_train_ds)\n",
    ")\n",
    "print(\n",
    "    \"Number of batches in raw_val_ds: %d\" % tf.data.experimental.cardinality(raw_val_ds)\n",
    ")"
   ]
  },
  {
   "cell_type": "code",
   "execution_count": 12,
   "metadata": {
    "executionInfo": {
     "elapsed": 629,
     "status": "ok",
     "timestamp": 1606469118576,
     "user": {
      "displayName": "Antoine Clivaz",
      "photoUrl": "",
      "userId": "05493898807172304624"
     },
     "user_tz": -60
    },
    "id": "TLytqsGkqMbw"
   },
   "outputs": [],
   "source": [
    "def remove_skips(input_data):\n",
    "    return tf.strings.regex_replace(input_data, \"\\n\", \" \")"
   ]
  },
  {
   "cell_type": "code",
   "execution_count": 13,
   "metadata": {
    "executionInfo": {
     "elapsed": 1004,
     "status": "ok",
     "timestamp": 1606469120496,
     "user": {
      "displayName": "Antoine Clivaz",
      "photoUrl": "",
      "userId": "05493898807172304624"
     },
     "user_tz": -60
    },
    "id": "27RDlPwjqMbw"
   },
   "outputs": [],
   "source": [
    "# Keep only text\n",
    "text_ds = raw_train_ds.map(lambda x, y: x) "
   ]
  },
  {
   "cell_type": "code",
   "execution_count": 14,
   "metadata": {
    "colab": {
     "base_uri": "https://localhost:8080/"
    },
    "executionInfo": {
     "elapsed": 703,
     "status": "ok",
     "timestamp": 1606469121701,
     "user": {
      "displayName": "Antoine Clivaz",
      "photoUrl": "",
      "userId": "05493898807172304624"
     },
     "user_tz": -60
    },
    "id": "EKUaIGmKW5Da",
    "outputId": "9bb1bfc1-da98-4ffe-beb5-1be994922e3a"
   },
   "outputs": [
    {
     "data": {
      "text/plain": [
       "tensorflow.python.data.ops.dataset_ops.MapDataset"
      ]
     },
     "execution_count": 14,
     "metadata": {},
     "output_type": "execute_result"
    }
   ],
   "source": [
    "type(text_ds)"
   ]
  },
  {
   "cell_type": "code",
   "execution_count": 15,
   "metadata": {
    "colab": {
     "base_uri": "https://localhost:8080/"
    },
    "executionInfo": {
     "elapsed": 413,
     "status": "ok",
     "timestamp": 1606469122494,
     "user": {
      "displayName": "Antoine Clivaz",
      "photoUrl": "",
      "userId": "05493898807172304624"
     },
     "user_tz": -60
    },
    "id": "PD9eowkkqMbw",
    "outputId": "24a28333-3044-474c-ba34-b23453216192"
   },
   "outputs": [
    {
     "name": "stdout",
     "output_type": "stream",
     "text": [
      "Num GPUs Available:  0\n"
     ]
    }
   ],
   "source": [
    "print(\"Num GPUs Available: \", len(tf.config.experimental.list_physical_devices('GPU')))"
   ]
  },
  {
   "cell_type": "code",
   "execution_count": 17,
   "metadata": {
    "executionInfo": {
     "elapsed": 3380,
     "status": "ok",
     "timestamp": 1606469126336,
     "user": {
      "displayName": "Antoine Clivaz",
      "photoUrl": "",
      "userId": "05493898807172304624"
     },
     "user_tz": -60
    },
    "id": "zsWIcn-bqMbw"
   },
   "outputs": [],
   "source": [
    "max_features = len(raw_train)\n",
    "embedding_dim = 32\n",
    "sequence_length = 280\n",
    "\n",
    "vectorize_layer = TextVectorization(\n",
    "    max_tokens=max_features,\n",
    "    output_mode=\"int\",\n",
    "    output_sequence_length=sequence_length,\n",
    ")\n",
    "\n",
    "vectorize_layer.adapt(text_ds)\n",
    "\n",
    "# We want to know our vacobulary size, so that we can pass it to the embedding layer\n",
    "vocab_size = len(vectorize_layer.get_vocabulary())"
   ]
  },
  {
   "cell_type": "code",
   "execution_count": 18,
   "metadata": {
    "executionInfo": {
     "elapsed": 691,
     "status": "ok",
     "timestamp": 1606469128011,
     "user": {
      "displayName": "Antoine Clivaz",
      "photoUrl": "",
      "userId": "05493898807172304624"
     },
     "user_tz": -60
    },
    "id": "5tDrVkT7qMbw"
   },
   "outputs": [],
   "source": [
    "def vectorize_text(text, label):\n",
    "    text = tf.expand_dims(text, -1)\n",
    "    return vectorize_layer(text), label\n",
    "\n",
    "\n",
    "# Vectorize the data.\n",
    "train_ds = raw_train_ds.map(vectorize_text)\n",
    "val_ds = raw_val_ds.map(vectorize_text)\n",
    "# test_ds = raw_test_ds.map(vectorize_text)\n",
    "\n",
    "# Do async prefetching / buffering of the data for best performance on GPU.\n",
    "train_ds = train_ds.cache().prefetch(buffer_size=10)\n",
    "val_ds = val_ds.cache().prefetch(buffer_size=10)\n",
    "# test_ds = test_ds.cache().prefetch(buffer_size=10)"
   ]
  },
  {
   "cell_type": "code",
   "execution_count": 35,
   "metadata": {
    "executionInfo": {
     "elapsed": 976,
     "status": "ok",
     "timestamp": 1606469130402,
     "user": {
      "displayName": "Antoine Clivaz",
      "photoUrl": "",
      "userId": "05493898807172304624"
     },
     "user_tz": -60
    },
    "id": "QGTfB9u6Ya7W"
   },
   "outputs": [
    {
     "name": "stdout",
     "output_type": "stream",
     "text": [
      "Model: \"sequential_1\"\n",
      "_________________________________________________________________\n",
      "Layer (type)                 Output Shape              Param #   \n",
      "=================================================================\n",
      "embedding_1 (Embedding)      (None, 280, 32)           2846208   \n",
      "_________________________________________________________________\n",
      "flatten_1 (Flatten)          (None, 8960)              0         \n",
      "_________________________________________________________________\n",
      "dense_1 (Dense)              (None, 1)                 8961      \n",
      "=================================================================\n",
      "Total params: 2,855,169\n",
      "Trainable params: 2,855,169\n",
      "Non-trainable params: 0\n",
      "_________________________________________________________________\n",
      "None\n"
     ]
    }
   ],
   "source": [
    "model = keras.Sequential()\n",
    "model.add(layers.Embedding(vocab_size, embedding_dim, input_length=sequence_length))\n",
    "model.add(layers.Flatten())\n",
    "model.add(layers.Dense(1, activation='sigmoid', kernel_regularizer=l2(0.01), bias_regularizer=l2(0.01)))\n",
    "model.compile(loss='binary_crossentropy',optimizer='adam', metrics=['accuracy']) \n",
    "print(model.summary())"
   ]
  },
  {
   "cell_type": "markdown",
   "metadata": {
    "id": "-RmyqRkhf8tx"
   },
   "source": [
    "Importing the test data."
   ]
  },
  {
   "cell_type": "code",
   "execution_count": 36,
   "metadata": {
    "colab": {
     "base_uri": "https://localhost:8080/"
    },
    "executionInfo": {
     "elapsed": 1697115,
     "status": "ok",
     "timestamp": 1606470830147,
     "user": {
      "displayName": "Antoine Clivaz",
      "photoUrl": "",
      "userId": "05493898807172304624"
     },
     "user_tz": -60
    },
    "id": "JAVWJUOhaU1U",
    "outputId": "20c13954-cfac-46c3-8315-12fe4c680492"
   },
   "outputs": [
    {
     "name": "stdout",
     "output_type": "stream",
     "text": [
      "Epoch 1/4\n",
      "2257/2257 [==============================] - 46s 20ms/step - loss: 0.5323 - accuracy: 0.7566 - val_loss: 0.4960 - val_accuracy: 0.7725\n",
      "Epoch 2/4\n",
      "2257/2257 [==============================] - 45s 20ms/step - loss: 0.4556 - accuracy: 0.8081 - val_loss: 0.4737 - val_accuracy: 0.7873\n",
      "Epoch 3/4\n",
      "2257/2257 [==============================] - 43s 19ms/step - loss: 0.4262 - accuracy: 0.8258 - val_loss: 0.4677 - val_accuracy: 0.7905\n",
      "Epoch 4/4\n",
      "2257/2257 [==============================] - 45s 20ms/step - loss: 0.4061 - accuracy: 0.8372 - val_loss: 0.4660 - val_accuracy: 0.7912\n"
     ]
    },
    {
     "data": {
      "text/plain": [
       "<tensorflow.python.keras.callbacks.History at 0x7fbf37a4ca30>"
      ]
     },
     "execution_count": 36,
     "metadata": {},
     "output_type": "execute_result"
    }
   ],
   "source": [
    "epochs = 4\n",
    "# Fit the model using the train and test datasets.\n",
    "model.fit(train_ds, validation_data=val_ds, epochs=epochs)"
   ]
  },
  {
   "cell_type": "code",
   "execution_count": 292,
   "metadata": {
    "executionInfo": {
     "elapsed": 661,
     "status": "ok",
     "timestamp": 1606471407424,
     "user": {
      "displayName": "Antoine Clivaz",
      "photoUrl": "",
      "userId": "05493898807172304624"
     },
     "user_tz": -60
    },
    "id": "3Y1buWTWqWUa"
   },
   "outputs": [],
   "source": [
    "# test_ds = tf.data.TextLineDataset(\"data/test/test_data_cl.txt\")"
   ]
  },
  {
   "cell_type": "code",
   "execution_count": 41,
   "metadata": {
    "executionInfo": {
     "elapsed": 730,
     "status": "ok",
     "timestamp": 1606471408890,
     "user": {
      "displayName": "Antoine Clivaz",
      "photoUrl": "",
      "userId": "05493898807172304624"
     },
     "user_tz": -60
    },
    "id": "w00i1zxKrZI_"
   },
   "outputs": [],
   "source": [
    "def vectorize_text_test(text):\n",
    "  text = tf.expand_dims(text, -1)\n",
    "  return vectorize_layer(text)\n",
    "\n",
    "test_ds = test_ds.map(vectorize_text_test)\n",
    "\n",
    "test_ds = test_ds.cache().prefetch(buffer_size=10)"
   ]
  },
  {
   "cell_type": "code",
   "execution_count": 42,
   "metadata": {
    "executionInfo": {
     "elapsed": 21335,
     "status": "ok",
     "timestamp": 1606471430973,
     "user": {
      "displayName": "Antoine Clivaz",
      "photoUrl": "",
      "userId": "05493898807172304624"
     },
     "user_tz": -60
    },
    "id": "VTETIcM8qRXZ"
   },
   "outputs": [],
   "source": [
    "preds = model.predict(test_ds)"
   ]
  },
  {
   "cell_type": "code",
   "execution_count": 43,
   "metadata": {
    "id": "mDvNAkDUJF72"
   },
   "outputs": [],
   "source": [
    "preds = np.where(preds > 0.5, 1, -1)"
   ]
  },
  {
   "cell_type": "code",
   "execution_count": 46,
   "metadata": {
    "colab": {
     "base_uri": "https://localhost:8080/"
    },
    "executionInfo": {
     "elapsed": 896,
     "status": "ok",
     "timestamp": 1606336421802,
     "user": {
      "displayName": "Amine Ch",
      "photoUrl": "",
      "userId": "16292592810935337482"
     },
     "user_tz": -60
    },
    "id": "wpFRa31zltiL",
    "outputId": "4075e0fd-6845-4355-81f0-399fe3722993"
   },
   "outputs": [
    {
     "name": "stdout",
     "output_type": "stream",
     "text": [
      "Done. Predictions can be found in predictions/preds.csv.\n"
     ]
    }
   ],
   "source": [
    "preds_path = \"predictions/preds.csv\"\n",
    "with open(preds_path, \"w\") as f:\n",
    "    f.write(\"Id,Prediction\\n\")\n",
    "    for i, y in enumerate(preds):\n",
    "        f.write(str(i + 1) + \",\" + str(int(y)) + \"\\n\")\n",
    "print(f\"Done. Predictions can be found in {preds_path}.\")"
   ]
  },
  {
   "cell_type": "code",
   "execution_count": null,
   "metadata": {},
   "outputs": [],
   "source": []
  }
 ],
 "metadata": {
  "accelerator": "TPU",
  "colab": {
   "collapsed_sections": [],
   "name": "project2_monday_23.ipynb",
   "provenance": [
    {
     "file_id": "1EDUdYe663AQXpMGF6Koh9p8iluW1pWp4",
     "timestamp": 1606154618402
    }
   ]
  },
  "kernelspec": {
   "display_name": "Python 3",
   "language": "python",
   "name": "python3"
  },
  "language_info": {
   "codemirror_mode": {
    "name": "ipython",
    "version": 3
   },
   "file_extension": ".py",
   "mimetype": "text/x-python",
   "name": "python",
   "nbconvert_exporter": "python",
   "pygments_lexer": "ipython3",
   "version": "3.8.3"
  }
 },
 "nbformat": 4,
 "nbformat_minor": 1
}
