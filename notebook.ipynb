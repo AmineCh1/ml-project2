{
 "cells": [
  {
   "cell_type": "markdown",
   "metadata": {
    "id": "8W60K_dDEpvB"
   },
   "source": [
    "## Google Drive setup"
   ]
  },
  {
   "cell_type": "code",
   "execution_count": 1,
   "metadata": {
    "colab": {
     "base_uri": "https://localhost:8080/"
    },
    "executionInfo": {
     "elapsed": 599,
     "status": "ok",
     "timestamp": 1606469102358,
     "user": {
      "displayName": "Antoine Clivaz",
      "photoUrl": "",
      "userId": "05493898807172304624"
     },
     "user_tz": -60
    },
    "id": "1HCWUeqnH9Dt",
    "outputId": "def7d3f6-f639-44c5-ee3c-2854bba83249"
   },
   "outputs": [],
   "source": [
    "# from google.colab import drive\n",
    "# drive.mount('/content/drive/')"
   ]
  },
  {
   "cell_type": "code",
   "execution_count": 2,
   "metadata": {
    "colab": {
     "base_uri": "https://localhost:8080/"
    },
    "executionInfo": {
     "elapsed": 638,
     "status": "ok",
     "timestamp": 1606469109018,
     "user": {
      "displayName": "Antoine Clivaz",
      "photoUrl": "",
      "userId": "05493898807172304624"
     },
     "user_tz": -60
    },
    "id": "nlAH_wUCPI0a",
    "outputId": "ba93e676-3b43-48f5-971a-c62657c9b45e"
   },
   "outputs": [],
   "source": [
    "# %cd \"/content/drive/MyDrive/colab_not\"  "
   ]
  },
  {
   "cell_type": "markdown",
   "metadata": {
    "id": "8W60K_dDEpvB"
   },
   "source": [
    "## Local setup"
   ]
  },
  {
   "cell_type": "code",
   "execution_count": 3,
   "metadata": {
    "colab": {
     "base_uri": "https://localhost:8080/"
    },
    "executionInfo": {
     "elapsed": 599,
     "status": "ok",
     "timestamp": 1606469102358,
     "user": {
      "displayName": "Antoine Clivaz",
      "photoUrl": "",
      "userId": "05493898807172304624"
     },
     "user_tz": -60
    },
    "id": "1HCWUeqnH9Dt",
    "outputId": "def7d3f6-f639-44c5-ee3c-2854bba83249"
   },
   "outputs": [],
   "source": [
    "import os\n",
    "import sys\n",
    "from os import path, pardir\n",
    "import pathlib\n",
    "\n",
    "# Add the \"scripts\" folder to the PATH\n",
    "scripts = path.join(pathlib.Path(os.path.abspath('')), 'scripts')\n",
    "if scripts not in sys.path:\n",
    "    sys.path.append(scripts)\n",
    "\n",
    "# Import our libraries\n",
    "from helpers import data_path\n",
    "import data_cleaning as dc"
   ]
  },
  {
   "cell_type": "markdown",
   "metadata": {},
   "source": [
    "## Project II"
   ]
  },
  {
   "cell_type": "code",
   "execution_count": 7,
   "metadata": {
    "executionInfo": {
     "elapsed": 683,
     "status": "ok",
     "timestamp": 1606469110257,
     "user": {
      "displayName": "Antoine Clivaz",
      "photoUrl": "",
      "userId": "05493898807172304624"
     },
     "user_tz": -60
    },
    "id": "uX_U_vG5qMbu"
   },
   "outputs": [],
   "source": [
    "import tensorflow as tf\n",
    "from tensorflow.keras import layers\n",
    "from tensorflow.keras.layers.experimental.preprocessing import TextVectorization\n",
    "from tensorflow.keras.regularizers import l2\n",
    "import numpy as np\n",
    "import string\n",
    "import pandas as pd"
   ]
  },
  {
   "cell_type": "code",
   "execution_count": 8,
   "metadata": {
    "executionInfo": {
     "elapsed": 643,
     "status": "ok",
     "timestamp": 1606469111388,
     "user": {
      "displayName": "Antoine Clivaz",
      "photoUrl": "",
      "userId": "05493898807172304624"
     },
     "user_tz": -60
    },
    "id": "rBnyy45HfT9g"
   },
   "outputs": [],
   "source": [
    "def split_set(data_to_split, ratio=0.8):\n",
    "    mask = np.random.rand(len(data_to_split)) < ratio\n",
    "    return [data_to_split[mask].reset_index(drop=True), data_to_split[~mask].reset_index(drop=True)]"
   ]
  },
  {
   "cell_type": "code",
   "execution_count": 9,
   "metadata": {
    "colab": {
     "base_uri": "https://localhost:8080/"
    },
    "executionInfo": {
     "elapsed": 3388,
     "status": "ok",
     "timestamp": 1606469115720,
     "user": {
      "displayName": "Antoine Clivaz",
      "photoUrl": "",
      "userId": "05493898807172304624"
     },
     "user_tz": -60
    },
    "id": "q3qtrnOCqMbv",
    "outputId": "54ed7acc-619b-480b-a126-9220fc930492"
   },
   "outputs": [
    {
     "name": "stdout",
     "output_type": "stream",
     "text": [
      "Number of batches in raw_train_ds: 2497\n",
      "Number of batches in raw_val_ds: 629\n"
     ]
    }
   ],
   "source": [
    "batch_size = 64\n",
    "\n",
    "raw_train_pos = pd.read_table(\"data/train/train_pos_clean.txt\", sep = \"\\n\", header=None,quoting= 3)\n",
    "raw_train_pos['pred'] = 1\n",
    "\n",
    "raw_train_neg = pd.read_table(\"data/train/train_neg_clean.txt\", sep = \"\\n\", header=None, quoting = 3)\n",
    "raw_train_neg['pred'] = 0\n",
    "\n",
    "\n",
    "#########################################################################\n",
    "########### TESTING ONLY - Take only 25% of the whole dataset ###########\n",
    "#########################################################################\n",
    "# pos_total = len(raw_train_pos)\n",
    "# neg_total = len(raw_train_neg)\n",
    "# raw_train_pos = raw_train_pos[:int(pos_total * .25)]\n",
    "# raw_train_neg = raw_train_neg[:int(neg_total * .25)]\n",
    "#########################################################################\n",
    "#########################################################################\n",
    "#########################################################################\n",
    "\n",
    "# Form training data\n",
    "raw_train = pd.concat((raw_train_neg,raw_train_pos))\n",
    "\n",
    "# Separating training and validation data\n",
    "raw_train_tr,raw_train_val  = split_set(raw_train.sample(frac=1,random_state=0))\n",
    "target_train_tr = raw_train_tr.pop('pred')\n",
    "target_train_val = raw_train_val.pop('pred')\n",
    "\n",
    "# Turning Pandas dataframes into Tensorflow datasets\n",
    "raw_train_ds = tf.data.Dataset.from_tensor_slices((np.squeeze(raw_train_tr.values), target_train_tr.values))\n",
    "raw_val_ds = tf.data.Dataset.from_tensor_slices((np.squeeze(raw_train_val.values),target_train_val.values))\n",
    "\n",
    "\n",
    "# Batchify data\n",
    "raw_train_ds = raw_train_ds.batch(batch_size=batch_size)\n",
    "raw_val_ds = raw_val_ds.batch(batch_size=batch_size)\n",
    "\n",
    "print(\n",
    "    \"Number of batches in raw_train_ds: %d\"\n",
    "    % tf.data.experimental.cardinality(raw_train_ds)\n",
    ")\n",
    "print(\n",
    "    \"Number of batches in raw_val_ds: %d\" % tf.data.experimental.cardinality(raw_val_ds)\n",
    ")"
   ]
  },
  {
   "cell_type": "code",
   "execution_count": 10,
   "metadata": {
    "executionInfo": {
     "elapsed": 3380,
     "status": "ok",
     "timestamp": 1606469126336,
     "user": {
      "displayName": "Antoine Clivaz",
      "photoUrl": "",
      "userId": "05493898807172304624"
     },
     "user_tz": -60
    },
    "id": "zsWIcn-bqMbw"
   },
   "outputs": [],
   "source": [
    "max_features = len(raw_train)\n",
    "embedding_dim = 32\n",
    "sequence_length = 280\n",
    "\n",
    "vectorize_layer = TextVectorization(\n",
    "    max_tokens=max_features,\n",
    "    output_mode=\"int\",\n",
    "    output_sequence_length=sequence_length,\n",
    ")\n",
    "\n",
    "# Keep only text\n",
    "text_ds = raw_train_ds.map(lambda x, y: x)\n",
    "\n",
    "vectorize_layer.adapt(text_ds)\n",
    "\n",
    "# We want to know our vacobulary size, so that we can pass it to the embedding layer\n",
    "vocab_size = len(vectorize_layer.get_vocabulary())"
   ]
  },
  {
   "cell_type": "code",
   "execution_count": 11,
   "metadata": {
    "executionInfo": {
     "elapsed": 691,
     "status": "ok",
     "timestamp": 1606469128011,
     "user": {
      "displayName": "Antoine Clivaz",
      "photoUrl": "",
      "userId": "05493898807172304624"
     },
     "user_tz": -60
    },
    "id": "5tDrVkT7qMbw"
   },
   "outputs": [],
   "source": [
    "def vectorize_text(text, label):\n",
    "    text = tf.expand_dims(text, -1)\n",
    "    return vectorize_layer(text), label\n",
    "\n",
    "# Vectorize the data.\n",
    "train_ds = raw_train_ds.map(vectorize_text)\n",
    "val_ds = raw_val_ds.map(vectorize_text)\n",
    "# test_ds = raw_test_ds.map(vectorize_text)\n",
    "\n",
    "# Do async prefetching / buffering of the data for best performance on GPU.\n",
    "train_ds = train_ds.cache().prefetch(buffer_size=10)\n",
    "val_ds = val_ds.cache().prefetch(buffer_size=10)\n",
    "# test_ds = test_ds.cache().prefetch(buffer_size=10)"
   ]
  },
  {
   "cell_type": "code",
   "execution_count": 12,
   "metadata": {
    "executionInfo": {
     "elapsed": 976,
     "status": "ok",
     "timestamp": 1606469130402,
     "user": {
      "displayName": "Antoine Clivaz",
      "photoUrl": "",
      "userId": "05493898807172304624"
     },
     "user_tz": -60
    },
    "id": "QGTfB9u6Ya7W"
   },
   "outputs": [
    {
     "name": "stdout",
     "output_type": "stream",
     "text": [
      "Model: \"sequential\"\n",
      "_________________________________________________________________\n",
      "Layer (type)                 Output Shape              Param #   \n",
      "=================================================================\n",
      "embedding (Embedding)        (None, 280, 32)           2866208   \n",
      "_________________________________________________________________\n",
      "flatten (Flatten)            (None, 8960)              0         \n",
      "_________________________________________________________________\n",
      "dense (Dense)                (None, 1)                 8961      \n",
      "=================================================================\n",
      "Total params: 2,875,169\n",
      "Trainable params: 2,875,169\n",
      "Non-trainable params: 0\n",
      "_________________________________________________________________\n",
      "None\n"
     ]
    }
   ],
   "source": [
    "model = tf.keras.Sequential()\n",
    "model.add(layers.Embedding(vocab_size, embedding_dim, input_length=sequence_length))\n",
    "model.add(layers.Flatten())\n",
    "model.add(layers.Dense(1, activation='sigmoid', kernel_regularizer=l2(0.01), bias_regularizer=l2(0.01)))\n",
    "model.compile(loss='binary_crossentropy',optimizer='adam', metrics=['accuracy']) \n",
    "print(model.summary())"
   ]
  },
  {
   "cell_type": "markdown",
   "metadata": {
    "id": "-RmyqRkhf8tx"
   },
   "source": [
    "Importing the test data."
   ]
  },
  {
   "cell_type": "markdown",
   "metadata": {},
   "source": [
    "## IMDB Dataset tryouts"
   ]
  },
  {
   "cell_type": "code",
   "execution_count": 21,
   "metadata": {
    "colab": {
     "base_uri": "https://localhost:8080/"
    },
    "executionInfo": {
     "elapsed": 1697115,
     "status": "ok",
     "timestamp": 1606470830147,
     "user": {
      "displayName": "Antoine Clivaz",
      "photoUrl": "",
      "userId": "05493898807172304624"
     },
     "user_tz": -60
    },
    "id": "JAVWJUOhaU1U",
    "outputId": "20c13954-cfac-46c3-8315-12fe4c680492"
   },
   "outputs": [
    {
     "name": "stdout",
     "output_type": "stream",
     "text": [
      "25000\n",
      "Epoch 1/3\n",
      "391/391 [==============================] - 1s 3ms/step - loss: 0.4947 - accuracy: 0.7562 - val_loss: 0.3079 - val_accuracy: 0.8734\n",
      "Epoch 2/3\n",
      "391/391 [==============================] - 1s 3ms/step - loss: 0.2446 - accuracy: 0.9043 - val_loss: 0.2796 - val_accuracy: 0.8816\n",
      "Epoch 3/3\n",
      "391/391 [==============================] - 1s 3ms/step - loss: 0.1721 - accuracy: 0.9398 - val_loss: 0.2772 - val_accuracy: 0.8838\n"
     ]
    },
    {
     "data": {
      "text/plain": [
       "<tensorflow.python.keras.callbacks.History at 0x7fe6bd8951f0>"
      ]
     },
     "execution_count": 21,
     "metadata": {},
     "output_type": "execute_result"
    }
   ],
   "source": [
    "# Taken from https://www.liip.ch/en/blog/sentiment-detection-with-keras-word-embeddings-and-lstm-deep-learning-networks\n",
    "\n",
    "# Import the data\n",
    "from tensorflow.keras.datasets import imdb\n",
    "top_words = 5000 \n",
    "(X_train, y_train), (X_test, y_test) = imdb.load_data(num_words=top_words)\n",
    "\n",
    "# Truncate and pad the review sequences \n",
    "from tensorflow.keras.preprocessing import sequence\n",
    "max_review_length = 500 \n",
    "X_train = sequence.pad_sequences(X_train, maxlen=max_review_length)\n",
    "X_test = sequence.pad_sequences(X_test, maxlen=max_review_length)\n",
    "\n",
    "# Build the model \n",
    "embedding_vector_length = 32\n",
    "model = tf.keras.Sequential()\n",
    "model.add(layers.Embedding(top_words, embedding_vector_length, input_length=max_review_length))\n",
    "model.add(layers.Flatten())\n",
    "model.add(layers.Dense(1, activation='sigmoid'))\n",
    "model.compile(loss='binary_crossentropy',optimizer='adam', metrics=['accuracy'])\n",
    "\n",
    "# Train the model\n",
    "model.fit(X_train, y_train, validation_data=(X_test, y_test), epochs=3, batch_size=64)"
   ]
  },
  {
   "cell_type": "markdown",
   "metadata": {},
   "source": [
    "## Our Twitter Dataset"
   ]
  },
  {
   "cell_type": "code",
   "execution_count": 10,
   "metadata": {
    "colab": {
     "base_uri": "https://localhost:8080/"
    },
    "executionInfo": {
     "elapsed": 1697115,
     "status": "ok",
     "timestamp": 1606470830147,
     "user": {
      "displayName": "Antoine Clivaz",
      "photoUrl": "",
      "userId": "05493898807172304624"
     },
     "user_tz": -60
    },
    "id": "JAVWJUOhaU1U",
    "outputId": "20c13954-cfac-46c3-8315-12fe4c680492"
   },
   "outputs": [
    {
     "name": "stdout",
     "output_type": "stream",
     "text": [
      "Epoch 1/5\n",
      "2502/2502 [==============================] - 32s 13ms/step - loss: 0.5100 - accuracy: 0.7708 - val_loss: 0.4720 - val_accuracy: 0.7966\n",
      "Epoch 2/5\n",
      "2502/2502 [==============================] - 32s 13ms/step - loss: 0.4325 - accuracy: 0.8207 - val_loss: 0.4500 - val_accuracy: 0.8070\n",
      "Epoch 3/5\n",
      "2502/2502 [==============================] - 31s 12ms/step - loss: 0.4038 - accuracy: 0.8369 - val_loss: 0.4431 - val_accuracy: 0.8091\n",
      "Epoch 4/5\n",
      "2502/2502 [==============================] - 31s 12ms/step - loss: 0.3841 - accuracy: 0.8473 - val_loss: 0.4404 - val_accuracy: 0.8088\n",
      "Epoch 5/5\n",
      "2502/2502 [==============================] - 31s 12ms/step - loss: 0.3686 - accuracy: 0.8561 - val_loss: 0.4396 - val_accuracy: 0.8102\n"
     ]
    },
    {
     "data": {
      "text/plain": [
       "<tensorflow.python.keras.callbacks.History at 0x7fcc02e1de50>"
      ]
     },
     "execution_count": 10,
     "metadata": {},
     "output_type": "execute_result"
    }
   ],
   "source": [
    "epochs = 5\n",
    "# Fit the model using the train and test datasets.\n",
    "model.fit(train_ds, validation_data=val_ds, epochs=epochs)"
   ]
  },
  {
   "cell_type": "code",
   "execution_count": 292,
   "metadata": {
    "executionInfo": {
     "elapsed": 661,
     "status": "ok",
     "timestamp": 1606471407424,
     "user": {
      "displayName": "Antoine Clivaz",
      "photoUrl": "",
      "userId": "05493898807172304624"
     },
     "user_tz": -60
    },
    "id": "3Y1buWTWqWUa"
   },
   "outputs": [],
   "source": [
    "# test_ds = tf.data.TextLineDataset(\"data/test/test_data_cl.txt\")"
   ]
  },
  {
   "cell_type": "code",
   "execution_count": 41,
   "metadata": {
    "executionInfo": {
     "elapsed": 730,
     "status": "ok",
     "timestamp": 1606471408890,
     "user": {
      "displayName": "Antoine Clivaz",
      "photoUrl": "",
      "userId": "05493898807172304624"
     },
     "user_tz": -60
    },
    "id": "w00i1zxKrZI_"
   },
   "outputs": [],
   "source": [
    "def vectorize_text_test(text):\n",
    "  text = tf.expand_dims(text, -1)\n",
    "  return vectorize_layer(text)\n",
    "\n",
    "test_ds = test_ds.map(vectorize_text_test)\n",
    "\n",
    "test_ds = test_ds.cache().prefetch(buffer_size=10)"
   ]
  },
  {
   "cell_type": "code",
   "execution_count": 42,
   "metadata": {
    "executionInfo": {
     "elapsed": 21335,
     "status": "ok",
     "timestamp": 1606471430973,
     "user": {
      "displayName": "Antoine Clivaz",
      "photoUrl": "",
      "userId": "05493898807172304624"
     },
     "user_tz": -60
    },
    "id": "VTETIcM8qRXZ"
   },
   "outputs": [],
   "source": [
    "preds = model.predict(test_ds)"
   ]
  },
  {
   "cell_type": "code",
   "execution_count": 43,
   "metadata": {
    "id": "mDvNAkDUJF72"
   },
   "outputs": [],
   "source": [
    "preds = np.where(preds > 0.5, 1, -1)"
   ]
  },
  {
   "cell_type": "code",
   "execution_count": 46,
   "metadata": {
    "colab": {
     "base_uri": "https://localhost:8080/"
    },
    "executionInfo": {
     "elapsed": 896,
     "status": "ok",
     "timestamp": 1606336421802,
     "user": {
      "displayName": "Amine Ch",
      "photoUrl": "",
      "userId": "16292592810935337482"
     },
     "user_tz": -60
    },
    "id": "wpFRa31zltiL",
    "outputId": "4075e0fd-6845-4355-81f0-399fe3722993"
   },
   "outputs": [
    {
     "name": "stdout",
     "output_type": "stream",
     "text": [
      "Done. Predictions can be found in predictions/preds.csv.\n"
     ]
    }
   ],
   "source": [
    "preds_path = \"predictions/preds.csv\"\n",
    "with open(preds_path, \"w\") as f:\n",
    "    f.write(\"Id,Prediction\\n\")\n",
    "    for i, y in enumerate(preds):\n",
    "        f.write(str(i + 1) + \",\" + str(int(y)) + \"\\n\")\n",
    "print(f\"Done. Predictions can be found in {preds_path}.\")"
   ]
  },
  {
   "cell_type": "code",
   "execution_count": null,
   "metadata": {},
   "outputs": [],
   "source": []
  }
 ],
 "metadata": {
  "accelerator": "TPU",
  "colab": {
   "collapsed_sections": [],
   "name": "project2_monday_23.ipynb",
   "provenance": [
    {
     "file_id": "1EDUdYe663AQXpMGF6Koh9p8iluW1pWp4",
     "timestamp": 1606154618402
    }
   ]
  },
  "kernelspec": {
   "display_name": "Python 3",
   "language": "python",
   "name": "python3"
  },
  "language_info": {
   "codemirror_mode": {
    "name": "ipython",
    "version": 3
   },
   "file_extension": ".py",
   "mimetype": "text/x-python",
   "name": "python",
   "nbconvert_exporter": "python",
   "pygments_lexer": "ipython3",
   "version": "3.8.3"
  }
 },
 "nbformat": 4,
 "nbformat_minor": 1
}
