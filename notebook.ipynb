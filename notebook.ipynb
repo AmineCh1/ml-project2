{
 "cells": [
  {
   "cell_type": "markdown",
   "metadata": {
    "id": "8W60K_dDEpvB"
   },
   "source": [
    "## Google Drive setup"
   ]
  },
  {
   "cell_type": "code",
   "execution_count": 1,
   "metadata": {
    "colab": {
     "base_uri": "https://localhost:8080/"
    },
    "executionInfo": {
     "elapsed": 599,
     "status": "ok",
     "timestamp": 1606469102358,
     "user": {
      "displayName": "Antoine Clivaz",
      "photoUrl": "",
      "userId": "05493898807172304624"
     },
     "user_tz": -60
    },
    "id": "1HCWUeqnH9Dt",
    "outputId": "def7d3f6-f639-44c5-ee3c-2854bba83249"
   },
   "outputs": [],
   "source": [
    "# from google.colab import drive\n",
    "# drive.mount('/content/drive/')"
   ]
  },
  {
   "cell_type": "code",
   "execution_count": 2,
   "metadata": {
    "colab": {
     "base_uri": "https://localhost:8080/"
    },
    "executionInfo": {
     "elapsed": 638,
     "status": "ok",
     "timestamp": 1606469109018,
     "user": {
      "displayName": "Antoine Clivaz",
      "photoUrl": "",
      "userId": "05493898807172304624"
     },
     "user_tz": -60
    },
    "id": "nlAH_wUCPI0a",
    "outputId": "ba93e676-3b43-48f5-971a-c62657c9b45e"
   },
   "outputs": [],
   "source": [
    "# %cd \"/content/drive/MyDrive/colab_not\"  "
   ]
  },
  {
   "cell_type": "markdown",
   "metadata": {
    "id": "8W60K_dDEpvB"
   },
   "source": [
    "## Local setup"
   ]
  },
  {
   "cell_type": "code",
   "execution_count": 3,
   "metadata": {
    "colab": {
     "base_uri": "https://localhost:8080/"
    },
    "executionInfo": {
     "elapsed": 599,
     "status": "ok",
     "timestamp": 1606469102358,
     "user": {
      "displayName": "Antoine Clivaz",
      "photoUrl": "",
      "userId": "05493898807172304624"
     },
     "user_tz": -60
    },
    "id": "1HCWUeqnH9Dt",
    "outputId": "def7d3f6-f639-44c5-ee3c-2854bba83249"
   },
   "outputs": [],
   "source": [
    "import os\n",
    "import sys\n",
    "from os import path, pardir\n",
    "import pathlib\n",
    "\n",
    "# Add the \"scripts\" folder to the PATH\n",
    "scripts = path.join(pathlib.Path(os.path.abspath('')), 'scripts')\n",
    "if scripts not in sys.path:\n",
    "    sys.path.append(scripts)"
   ]
  },
  {
   "cell_type": "markdown",
   "metadata": {},
   "source": [
    "## Project II"
   ]
  },
  {
   "cell_type": "code",
   "execution_count": 4,
   "metadata": {
    "executionInfo": {
     "elapsed": 683,
     "status": "ok",
     "timestamp": 1606469110257,
     "user": {
      "displayName": "Antoine Clivaz",
      "photoUrl": "",
      "userId": "05493898807172304624"
     },
     "user_tz": -60
    },
    "id": "uX_U_vG5qMbu"
   },
   "outputs": [],
   "source": [
    "import tensorflow as tf\n",
    "from tensorflow.keras import layers\n",
    "from tensorflow.keras.layers.experimental.preprocessing import TextVectorization\n",
    "from tensorflow.keras.regularizers import l2\n",
    "import numpy as np\n",
    "import string\n",
    "import pandas as pd"
   ]
  },
  {
   "cell_type": "code",
   "execution_count": 5,
   "metadata": {
    "executionInfo": {
     "elapsed": 643,
     "status": "ok",
     "timestamp": 1606469111388,
     "user": {
      "displayName": "Antoine Clivaz",
      "photoUrl": "",
      "userId": "05493898807172304624"
     },
     "user_tz": -60
    },
    "id": "rBnyy45HfT9g"
   },
   "outputs": [],
   "source": [
    "def split_set(data_to_split, ratio=0.8):\n",
    "    mask = np.random.rand(len(data_to_split)) < ratio\n",
    "    return [data_to_split[mask].reset_index(drop=True), data_to_split[~mask].reset_index(drop=True)]"
   ]
  },
  {
   "cell_type": "markdown",
   "metadata": {},
   "source": [
    "# Data pre-processing experiments\n",
    "\n",
    "## Purpose\n",
    "\n",
    "The purpose of that section is to do **small pre-processing experiments**, to **assess whether a pre-processing\n",
    "has a positive impact on the overall score** on the model predictions.\n",
    "\n",
    "This part is _self-contained_ on purpose: it will import its own data, create its own (very fast) model.\n",
    "\n",
    "## How it works\n",
    "\n",
    "We will construct _two datasets_ : the **original dataset**, and **one with one small preprocessing applied to it**.\n",
    "\n",
    "We will then **run our model on those two datasets**, and we will compare the scores we obtain for both parts.\n",
    "\n",
    "We do all of those pre-processing directly in the code, because we want to be able to test many experiments quickly.\n",
    "\n",
    "## Important\n",
    "\n",
    "**Do not change anything under the \"RAW DATA\" section**: this is your control group.\n",
    "\n",
    "## Processes\n",
    "\n",
    "### Validate that a new tweet preprocessing idea increases accuracy\n",
    "\n",
    "1. Under the \"PREPROCESSED DATA\" section, set the `preprocessing` variable to `True`.\n",
    "2. In `scripts/data_cleaning.py`, add your preprocessing in `def preprocess_tweet(tweet)` (we recommend adding only one, to know exactly which preprocessing has an impact).\n",
    "3. Run the code below.\n",
    "\n",
    "\n",
    "### Compare two datasets with our model\n",
    "\n",
    "1. Under the \"PREPROCESSED DATA\" section, set the datasets you would like to use in `pos_ds_path` and `neg_ds_path` variables.\n",
    "1. [Optional] , set the `preprocessing` variable to `False` (if you want to preprocess data on the fly, set it to `True`.\n",
    "3. Run the code below."
   ]
  },
  {
   "cell_type": "code",
   "execution_count": 6,
   "metadata": {
    "colab": {
     "base_uri": "https://localhost:8080/"
    },
    "executionInfo": {
     "elapsed": 3388,
     "status": "ok",
     "timestamp": 1606469115720,
     "user": {
      "displayName": "Antoine Clivaz",
      "photoUrl": "",
      "userId": "05493898807172304624"
     },
     "user_tz": -60
    },
    "id": "q3qtrnOCqMbv",
    "outputId": "54ed7acc-619b-480b-a126-9220fc930492"
   },
   "outputs": [],
   "source": [
    "# Autoreload the data_cleaning library, for faster tests\n",
    "%load_ext autoreload\n",
    "%autoreload 1\n",
    "%aimport data_cleaning\n",
    "\n",
    "# Useful constants\n",
    "max_words_in_vocab = 10000\n",
    "embedding_dim = 32\n",
    "sequence_length = 280\n",
    "\n",
    "# Returns a training dataset and a validation dataset\n",
    "def prepare_datasets(pos_ds_path, neg_ds_path, preprocessing=False):\n",
    "  # Import the raw data\n",
    "  pos_ds = pd.read_table(pos_ds_path, names=[\"tweet\"], sep = \"\\n\", header=None,quoting=3)\n",
    "  neg_ds = pd.read_table(neg_ds_path, names=[\"tweet\"], sep = \"\\n\", header=None, quoting=3)\n",
    "\n",
    "  # Add predictions to the raw datasets\n",
    "  pos_ds['pred'] = 1\n",
    "  neg_ds['pred'] = 0\n",
    "\n",
    "  # Drop duplicates\n",
    "  pos_ds = pos_ds.drop_duplicates()\n",
    "  neg_ds = neg_ds.drop_duplicates()\n",
    "\n",
    "  #########################################################################\n",
    "  ########### TESTING ONLY - Take only 25% of the whole dataset ###########\n",
    "  #########################################################################\n",
    "  # pos_total = len(pos_ds)\n",
    "  # neg_total = len(neg_ds)\n",
    "  # pos_ds = pos_ds[:int(pos_total * .25)]\n",
    "  # neg_ds = neg_ds[:int(neg_total * .25)]\n",
    "  #########################################################################\n",
    "  #########################################################################\n",
    "  #########################################################################\n",
    "\n",
    "  # Form training data\n",
    "  full_ds = pd.concat((neg_ds, pos_ds))\n",
    "\n",
    "  # Construct the preprocessed version of the tweets on the fly\n",
    "  if preprocessing:\n",
    "    full_ds.tweet = full_ds.tweet.apply(data_cleaning.preprocess_tweet)\n",
    "\n",
    "  # Separating training and validation data\n",
    "  train_ds, val_ds = split_set(full_ds.sample(frac=1,random_state=0))\n",
    "    \n",
    "  # Turning Pandas dataframes into Tensorflow datasets\n",
    "  train_ds = tf.data.Dataset.from_tensor_slices((train_ds.tweet.values, train_ds.pred.values))\n",
    "  val_ds = tf.data.Dataset.from_tensor_slices((val_ds.tweet.values,val_ds.pred.values))\n",
    "\n",
    "  # Batchify data\n",
    "  batch_size = 64\n",
    "  train_ds   = train_ds.batch(batch_size=batch_size)\n",
    "  val_ds     = val_ds.batch(batch_size=batch_size)\n",
    "\n",
    "  return (train_ds, val_ds)\n",
    "\n",
    "\n",
    "######################################\n",
    "########## Vectorize data ############\n",
    "######################################\n",
    "\n",
    "# Is used by both of the functions below...please refactor\n",
    "vectorize_layer = TextVectorization(\n",
    "  max_tokens=max_words_in_vocab, # We only consider the top \"max_words_in_vocab\" words for the vocabulary\n",
    "  output_mode=\"int\",\n",
    "  output_sequence_length=sequence_length, # We pad our outputs to 280 characters\n",
    ")\n",
    "\n",
    "def vectorize_text(text, label):\n",
    "    text = tf.expand_dims(text, -1)\n",
    "    return vectorize_layer(text), label\n",
    "\n",
    "def vectorize_data(dataset):\n",
    "  # Keep only text\n",
    "  text_ds = dataset.map(lambda x, y: x)\n",
    "  vectorize_layer.adapt(text_ds)\n",
    "\n",
    "  # Vectorize the data.\n",
    "  returned_dataset = dataset.map(vectorize_text)\n",
    "\n",
    "  # Do async prefetching / buffering of the data for best performance on GPU.\n",
    "  returned_dataset = returned_dataset.cache().prefetch(buffer_size=10)\n",
    "\n",
    "  return returned_dataset"
   ]
  },
  {
   "cell_type": "code",
   "execution_count": 8,
   "metadata": {
    "executionInfo": {
     "elapsed": 3380,
     "status": "ok",
     "timestamp": 1606469126336,
     "user": {
      "displayName": "Antoine Clivaz",
      "photoUrl": "",
      "userId": "05493898807172304624"
     },
     "user_tz": -60
    },
    "id": "zsWIcn-bqMbw"
   },
   "outputs": [
    {
     "name": "stdout",
     "output_type": "stream",
     "text": [
      "Model: \"sequential_1\"\n",
      "_________________________________________________________________\n",
      "Layer (type)                 Output Shape              Param #   \n",
      "=================================================================\n",
      "embedding (Embedding)        (None, 280, 32)           320000    \n",
      "_________________________________________________________________\n",
      "flatten_1 (Flatten)          (None, 8960)              0         \n",
      "_________________________________________________________________\n",
      "dense_1 (Dense)              (None, 1)                 8961      \n",
      "=================================================================\n",
      "Total params: 328,961\n",
      "Trainable params: 328,961\n",
      "Non-trainable params: 0\n",
      "_________________________________________________________________\n",
      "None\n",
      "Epoch 1/4\n",
      "2264/2264 [==============================] - 6s 3ms/step - loss: 0.5276 - accuracy: 0.7537 - val_loss: 0.4824 - val_accuracy: 0.7898\n",
      "Epoch 2/4\n",
      "2264/2264 [==============================] - 5s 2ms/step - loss: 0.4645 - accuracy: 0.7984 - val_loss: 0.4631 - val_accuracy: 0.7977\n",
      "Epoch 3/4\n",
      "2264/2264 [==============================] - 4s 2ms/step - loss: 0.4457 - accuracy: 0.8076 - val_loss: 0.4546 - val_accuracy: 0.8010\n",
      "Epoch 4/4\n",
      "2264/2264 [==============================] - 5s 2ms/step - loss: 0.4342 - accuracy: 0.8133 - val_loss: 0.4499 - val_accuracy: 0.8031\n",
      "Model: \"sequential\"\n",
      "_________________________________________________________________\n",
      "Layer (type)                 Output Shape              Param #   \n",
      "=================================================================\n",
      "embedding_1 (Embedding)      (None, 280, 32)           320000    \n",
      "_________________________________________________________________\n",
      "flatten (Flatten)            (None, 8960)              0         \n",
      "_________________________________________________________________\n",
      "dense (Dense)                (None, 1)                 8961      \n",
      "=================================================================\n",
      "Total params: 328,961\n",
      "Trainable params: 328,961\n",
      "Non-trainable params: 0\n",
      "_________________________________________________________________\n",
      "None\n",
      "Epoch 1/4\n",
      "2266/2266 [==============================] - 6s 3ms/step - loss: 0.5266 - accuracy: 0.7547 - val_loss: 0.4843 - val_accuracy: 0.7882\n",
      "Epoch 2/4\n",
      "2266/2266 [==============================] - 5s 2ms/step - loss: 0.4639 - accuracy: 0.7998 - val_loss: 0.4657 - val_accuracy: 0.7938\n",
      "Epoch 3/4\n",
      "2266/2266 [==============================] - 5s 2ms/step - loss: 0.4453 - accuracy: 0.8086 - val_loss: 0.4574 - val_accuracy: 0.7972\n",
      "Epoch 4/4\n",
      "2266/2266 [==============================] - 5s 2ms/step - loss: 0.4340 - accuracy: 0.8139 - val_loss: 0.4530 - val_accuracy: 0.7984\n",
      "\n",
      "=====================================================================\n",
      "Your experiment validation accuracy difference with raw data: -0.4672050476074219\n",
      "=====================================================================\n"
     ]
    }
   ],
   "source": [
    "##############################\n",
    "########## RAW DATA ##########\n",
    "##############################\n",
    "\n",
    "# Load/Prepare data\n",
    "train_ds, val_ds = prepare_datasets('data/train/train_pos.txt', 'data/train/train_neg.txt')\n",
    "train_ds = vectorize_data(train_ds)\n",
    "val_ds = vectorize_data(val_ds)\n",
    "\n",
    "embedding_layer = layers.Embedding(max_words_in_vocab, embedding_dim, input_length=sequence_length)\n",
    "\n",
    "# Construct the model\n",
    "model = tf.keras.Sequential()\n",
    "model.add(embedding_layer)\n",
    "model.add(layers.Flatten())\n",
    "model.add(layers.Dense(1, activation='sigmoid', kernel_regularizer=l2(0.01), bias_regularizer=l2(0.01)))\n",
    "model.compile(loss='binary_crossentropy',optimizer='adam', metrics=['accuracy']) \n",
    "print(model.summary())\n",
    "\n",
    "# Train the model\n",
    "epochs = 4\n",
    "history = model.fit(train_ds, validation_data=val_ds, epochs=epochs)\n",
    "raw_accuracies = history.history['val_accuracy']\n",
    "\n",
    "##############################\n",
    "##### PREPROCESSED DATA ######\n",
    "##############################\n",
    "\n",
    "# Enable live preprocessing of tweets\n",
    "preprocessing = True\n",
    "pos_ds_path = 'data/train/train_pos.txt'\n",
    "neg_ds_path = 'data/train/train_neg.txt'\n",
    "\n",
    "# Load/Prepare data\n",
    "train_ds, val_ds = prepare_datasets(pos_ds_path, neg_ds_path, preprocessing=preprocessing)\n",
    "train_ds = vectorize_data(train_ds)\n",
    "val_ds = vectorize_data(val_ds)\n",
    "\n",
    "embedding_layer = layers.Embedding(max_words_in_vocab, embedding_dim, input_length=sequence_length)\n",
    "\n",
    "# Construct the model\n",
    "tf.keras.backend.clear_session() # First clear any existing Keras session: We want to start from scratch!\n",
    "model = tf.keras.Sequential()\n",
    "model.add(embedding_layer)\n",
    "model.add(layers.Flatten())\n",
    "model.add(layers.Dense(1, activation='sigmoid', kernel_regularizer=l2(0.01), bias_regularizer=l2(0.01)))\n",
    "model.compile(loss='binary_crossentropy',optimizer='adam', metrics=['accuracy']) \n",
    "print(model.summary())\n",
    "\n",
    "# Train the model\n",
    "epochs = 4\n",
    "history = model.fit(train_ds, validation_data=val_ds, epochs=epochs)\n",
    "pre_accuracies = history.history['val_accuracy']\n",
    "\n",
    "experiment_result_percentage = (pre_accuracies[-1] - raw_accuracies[-1]) * 100\n",
    "\n",
    "print()\n",
    "print('=====================================================================')\n",
    "print(\"Your experiment validation accuracy difference with raw data: %s\" % experiment_result_percentage)\n",
    "print('=====================================================================')"
   ]
  },
  {
   "cell_type": "markdown",
   "metadata": {},
   "source": [
    "# Testing the model"
   ]
  },
  {
   "cell_type": "code",
   "execution_count": 8,
   "metadata": {
    "executionInfo": {
     "elapsed": 661,
     "status": "ok",
     "timestamp": 1606471407424,
     "user": {
      "displayName": "Antoine Clivaz",
      "photoUrl": "",
      "userId": "05493898807172304624"
     },
     "user_tz": -60
    },
    "id": "3Y1buWTWqWUa"
   },
   "outputs": [],
   "source": [
    "# test_ds = tf.data.TextLineDataset(\"data/test/test_data_textblob_clean.txt\")\n",
    "test_ds = tf.data.TextLineDataset(\"data/test/test_data_cl.txt\")"
   ]
  },
  {
   "cell_type": "code",
   "execution_count": 9,
   "metadata": {
    "executionInfo": {
     "elapsed": 730,
     "status": "ok",
     "timestamp": 1606471408890,
     "user": {
      "displayName": "Antoine Clivaz",
      "photoUrl": "",
      "userId": "05493898807172304624"
     },
     "user_tz": -60
    },
    "id": "w00i1zxKrZI_"
   },
   "outputs": [],
   "source": [
    "def vectorize_text_test(text):\n",
    "  text = tf.expand_dims(text, -1)\n",
    "  return vectorize_layer(text)\n",
    "\n",
    "test_ds = test_ds.map(vectorize_text_test)\n",
    "\n",
    "test_ds = test_ds.cache().prefetch(buffer_size=10)"
   ]
  },
  {
   "cell_type": "code",
   "execution_count": 10,
   "metadata": {
    "executionInfo": {
     "elapsed": 21335,
     "status": "ok",
     "timestamp": 1606471430973,
     "user": {
      "displayName": "Antoine Clivaz",
      "photoUrl": "",
      "userId": "05493898807172304624"
     },
     "user_tz": -60
    },
    "id": "VTETIcM8qRXZ"
   },
   "outputs": [],
   "source": [
    "preds = model.predict(test_ds)"
   ]
  },
  {
   "cell_type": "code",
   "execution_count": 11,
   "metadata": {
    "id": "mDvNAkDUJF72"
   },
   "outputs": [],
   "source": [
    "preds = np.where(preds > 0.5, 1, -1)"
   ]
  },
  {
   "cell_type": "code",
   "execution_count": 12,
   "metadata": {
    "colab": {
     "base_uri": "https://localhost:8080/"
    },
    "executionInfo": {
     "elapsed": 896,
     "status": "ok",
     "timestamp": 1606336421802,
     "user": {
      "displayName": "Amine Ch",
      "photoUrl": "",
      "userId": "16292592810935337482"
     },
     "user_tz": -60
    },
    "id": "wpFRa31zltiL",
    "outputId": "4075e0fd-6845-4355-81f0-399fe3722993"
   },
   "outputs": [
    {
     "name": "stdout",
     "output_type": "stream",
     "text": [
      "Done. Predictions can be found in predictions/preds.csv.\n"
     ]
    }
   ],
   "source": [
    "preds_path = \"predictions/preds.csv\"\n",
    "with open(preds_path, \"w\") as f:\n",
    "    f.write(\"Id,Prediction\\n\")\n",
    "    for i, y in enumerate(preds):\n",
    "        f.write(str(i + 1) + \",\" + str(int(y)) + \"\\n\")\n",
    "print(f\"Done. Predictions can be found in {preds_path}.\")"
   ]
  },
  {
   "cell_type": "code",
   "execution_count": null,
   "metadata": {},
   "outputs": [],
   "source": []
  },
  {
   "cell_type": "code",
   "execution_count": null,
   "metadata": {},
   "outputs": [],
   "source": []
  }
 ],
 "metadata": {
  "accelerator": "TPU",
  "colab": {
   "collapsed_sections": [],
   "name": "project2_monday_23.ipynb",
   "provenance": [
    {
     "file_id": "1EDUdYe663AQXpMGF6Koh9p8iluW1pWp4",
     "timestamp": 1606154618402
    }
   ]
  },
  "kernelspec": {
   "display_name": "Python 3",
   "language": "python",
   "name": "python3"
  },
  "language_info": {
   "codemirror_mode": {
    "name": "ipython",
    "version": 3
   },
   "file_extension": ".py",
   "mimetype": "text/x-python",
   "name": "python",
   "nbconvert_exporter": "python",
   "pygments_lexer": "ipython3",
   "version": "3.8.3"
  }
 },
 "nbformat": 4,
 "nbformat_minor": 1
}
