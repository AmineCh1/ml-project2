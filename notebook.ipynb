{
 "cells": [
  {
   "cell_type": "markdown",
   "metadata": {
    "id": "8W60K_dDEpvB"
   },
   "source": [
    "## Google Drive setup"
   ]
  },
  {
   "cell_type": "code",
   "execution_count": 1,
   "metadata": {
    "colab": {
     "base_uri": "https://localhost:8080/"
    },
    "executionInfo": {
     "elapsed": 599,
     "status": "ok",
     "timestamp": 1606469102358,
     "user": {
      "displayName": "Antoine Clivaz",
      "photoUrl": "",
      "userId": "05493898807172304624"
     },
     "user_tz": -60
    },
    "id": "1HCWUeqnH9Dt",
    "outputId": "def7d3f6-f639-44c5-ee3c-2854bba83249"
   },
   "outputs": [],
   "source": [
    "# from google.colab import drive\n",
    "# drive.mount('/content/drive/')"
   ]
  },
  {
   "cell_type": "code",
   "execution_count": 2,
   "metadata": {
    "colab": {
     "base_uri": "https://localhost:8080/"
    },
    "executionInfo": {
     "elapsed": 638,
     "status": "ok",
     "timestamp": 1606469109018,
     "user": {
      "displayName": "Antoine Clivaz",
      "photoUrl": "",
      "userId": "05493898807172304624"
     },
     "user_tz": -60
    },
    "id": "nlAH_wUCPI0a",
    "outputId": "ba93e676-3b43-48f5-971a-c62657c9b45e"
   },
   "outputs": [],
   "source": [
    "# %cd \"/content/drive/MyDrive/colab_not\"  "
   ]
  },
  {
   "cell_type": "markdown",
   "metadata": {
    "id": "8W60K_dDEpvB"
   },
   "source": [
    "## Local setup"
   ]
  },
  {
   "cell_type": "code",
   "execution_count": 3,
   "metadata": {
    "colab": {
     "base_uri": "https://localhost:8080/"
    },
    "executionInfo": {
     "elapsed": 599,
     "status": "ok",
     "timestamp": 1606469102358,
     "user": {
      "displayName": "Antoine Clivaz",
      "photoUrl": "",
      "userId": "05493898807172304624"
     },
     "user_tz": -60
    },
    "id": "1HCWUeqnH9Dt",
    "outputId": "def7d3f6-f639-44c5-ee3c-2854bba83249"
   },
   "outputs": [],
   "source": [
    "import os\n",
    "import sys\n",
    "from os import path, pardir\n",
    "import pathlib\n",
    "\n",
    "# Add the \"scripts\" folder to the PATH\n",
    "scripts = path.join(pathlib.Path(os.path.abspath('')), 'scripts')\n",
    "if scripts not in sys.path:\n",
    "    sys.path.append(scripts)"
   ]
  },
  {
   "cell_type": "markdown",
   "metadata": {},
   "source": [
    "## Project II"
   ]
  },
  {
   "cell_type": "code",
   "execution_count": 4,
   "metadata": {
    "executionInfo": {
     "elapsed": 683,
     "status": "ok",
     "timestamp": 1606469110257,
     "user": {
      "displayName": "Antoine Clivaz",
      "photoUrl": "",
      "userId": "05493898807172304624"
     },
     "user_tz": -60
    },
    "id": "uX_U_vG5qMbu"
   },
   "outputs": [],
   "source": [
    "import tensorflow as tf\n",
    "from tensorflow.keras import layers\n",
    "from tensorflow.keras.layers.experimental.preprocessing import TextVectorization\n",
    "from tensorflow.keras.regularizers import l2\n",
    "import numpy as np\n",
    "import string\n",
    "import pandas as pd"
   ]
  },
  {
   "cell_type": "code",
   "execution_count": 5,
   "metadata": {
    "executionInfo": {
     "elapsed": 643,
     "status": "ok",
     "timestamp": 1606469111388,
     "user": {
      "displayName": "Antoine Clivaz",
      "photoUrl": "",
      "userId": "05493898807172304624"
     },
     "user_tz": -60
    },
    "id": "rBnyy45HfT9g"
   },
   "outputs": [],
   "source": [
    "def split_set(data_to_split, ratio=0.8):\n",
    "    mask = np.random.rand(len(data_to_split)) < ratio\n",
    "    return [data_to_split[mask].reset_index(drop=True), data_to_split[~mask].reset_index(drop=True)]"
   ]
  },
  {
   "cell_type": "markdown",
   "metadata": {},
   "source": [
    "# Data pre-processing experiments\n",
    "\n",
    "## Purpose\n",
    "\n",
    "The purpose of that section is to do **small pre-processing experiments**, to **assess whether a pre-processing\n",
    "has a positive impact on the overall score** on the model predictions.\n",
    "\n",
    "This part is _self-contained_ on purpose: it will import its own data, create its own (very fast) model.\n",
    "\n",
    "## How it works\n",
    "\n",
    "We will construct _two datasets_ : the **original dataset**, and **one with one small preprocessing applied to it**.\n",
    "\n",
    "We will then **run our model on those two datasets**, and we will compare the scores we obtain for both parts.\n",
    "\n",
    "We do all of those pre-processing directly in the code, because we want to be able to test many experiments quickly.\n",
    "\n",
    "## Process\n",
    "\n",
    "1. Do ONE CHANGE to tweets in `preprocess_tweet(tweet)` inside `data_cleaning.py` in the repo.\n",
    "2. "
   ]
  },
  {
   "cell_type": "code",
   "execution_count": 25,
   "metadata": {
    "scrolled": true
   },
   "outputs": [
    {
     "name": "stdout",
     "output_type": "stream",
     "text": [
      "The autoreload extension is already loaded. To reload it, use:\n",
      "  %reload_ext autoreload\n",
      "Number of batches in raw_train_ds: 2268\n",
      "Number of batches in raw_val_ds: 566\n",
      "Model: \"sequential_4\"\n",
      "_________________________________________________________________\n",
      "Layer (type)                 Output Shape              Param #   \n",
      "=================================================================\n",
      "embedding_4 (Embedding)      (None, 280, 32)           320000    \n",
      "_________________________________________________________________\n",
      "flatten_4 (Flatten)          (None, 8960)              0         \n",
      "_________________________________________________________________\n",
      "dense_4 (Dense)              (None, 1)                 8961      \n",
      "=================================================================\n",
      "Total params: 328,961\n",
      "Trainable params: 328,961\n",
      "Non-trainable params: 0\n",
      "_________________________________________________________________\n",
      "None\n",
      "Epoch 1/4\n",
      "2268/2268 [==============================] - 5s 2ms/step - loss: 0.4050 - accuracy: 0.8436 - val_loss: 0.3359 - val_accuracy: 0.8784\n",
      "Epoch 2/4\n",
      "2268/2268 [==============================] - 5s 2ms/step - loss: 0.3074 - accuracy: 0.8900 - val_loss: 0.3031 - val_accuracy: 0.8886\n",
      "Epoch 3/4\n",
      "2268/2268 [==============================] - 5s 2ms/step - loss: 0.2794 - accuracy: 0.8980 - val_loss: 0.2870 - val_accuracy: 0.8917\n",
      "Epoch 4/4\n",
      "2268/2268 [==============================] - 4s 2ms/step - loss: 0.2630 - accuracy: 0.9027 - val_loss: 0.2771 - val_accuracy: 0.8936\n"
     ]
    },
    {
     "data": {
      "text/plain": [
       "<tensorflow.python.keras.callbacks.History at 0x7f8e69351970>"
      ]
     },
     "execution_count": 25,
     "metadata": {},
     "output_type": "execute_result"
    }
   ],
   "source": [
    "# Autoreload the data_cleaning library, for faster tests\n",
    "%load_ext autoreload\n",
    "%autoreload 1\n",
    "%aimport data_cleaning\n",
    "\n",
    "# Import the raw data\n",
    "raw_train_pos = pd.read_table(\"data/train/train_pos_textblob.txt\", names=[\"tweet\"], sep = \"\\n\", header=None,quoting=3)\n",
    "raw_train_neg = pd.read_table(\"data/train/train_neg.txt\", names=[\"tweet\"], sep = \"\\n\", header=None, quoting=3)\n",
    "\n",
    "# Add predictions to the raw datasets\n",
    "raw_train_pos['pred'] = 1\n",
    "raw_train_neg['pred'] = 0\n",
    "\n",
    "# Drop duplicates\n",
    "raw_train_pos = raw_train_pos.drop_duplicates()\n",
    "raw_train_neg = raw_train_neg.drop_duplicates()\n",
    "\n",
    "#########################################################################\n",
    "########### TESTING ONLY - Take only 25% of the whole dataset ###########\n",
    "#########################################################################\n",
    "# pos_total = len(raw_train_pos)\n",
    "# neg_total = len(raw_train_neg)\n",
    "# raw_train_pos = raw_train_pos[:int(pos_total * .25)]\n",
    "# raw_train_neg = raw_train_neg[:int(neg_total * .25)]\n",
    "#########################################################################\n",
    "#########################################################################\n",
    "#########################################################################\n",
    "\n",
    "# Form training data\n",
    "raw_train = pd.concat((raw_train_neg,raw_train_pos))\n",
    "\n",
    "# Separating training and validation data\n",
    "raw_train_tr,raw_train_val  = split_set(raw_train.sample(frac=1,random_state=0))\n",
    "target_train_tr = raw_train_tr.pop('pred')\n",
    "target_train_val = raw_train_val.pop('pred')\n",
    "\n",
    "# Turning Pandas dataframes into Tensorflow datasets\n",
    "raw_train_ds = tf.data.Dataset.from_tensor_slices((np.squeeze(raw_train_tr.values), target_train_tr.values))\n",
    "raw_val_ds = tf.data.Dataset.from_tensor_slices((np.squeeze(raw_train_val.values),target_train_val.values))\n",
    "\n",
    "# Batchify data\n",
    "batch_size = 64\n",
    "raw_train_ds = raw_train_ds.batch(batch_size=batch_size)\n",
    "raw_val_ds = raw_val_ds.batch(batch_size=batch_size)\n",
    "\n",
    "print(\n",
    "    \"Number of batches in raw_train_ds: %d\"\n",
    "    % tf.data.experimental.cardinality(raw_train_ds)\n",
    ")\n",
    "print(\n",
    "    \"Number of batches in raw_val_ds: %d\" % tf.data.experimental.cardinality(raw_val_ds)\n",
    ")\n",
    "\n",
    "######################################\n",
    "### Construct the embedding layer ####\n",
    "######################################\n",
    "\n",
    "max_words_in_vocab = 10000\n",
    "embedding_dim = 32\n",
    "sequence_length = 280\n",
    "\n",
    "vectorize_layer = TextVectorization(\n",
    "    max_tokens=max_words_in_vocab, # We only consider the top \"max_words_in_vocab\" words for the vocabulary\n",
    "    output_mode=\"int\",\n",
    "    output_sequence_length=sequence_length, # We pad our outputs to 280 characters\n",
    ")\n",
    "\n",
    "# Keep only text\n",
    "text_ds = raw_train_ds.map(lambda x, y: x)\n",
    "\n",
    "vectorize_layer.adapt(text_ds)\n",
    "\n",
    "####################################\n",
    "########### FUN TUTORIAL ###########\n",
    "####################################\n",
    "\n",
    "# Print the top 10 words of our vocabulary\n",
    "# vectorize_layer.get_vocabulary()[:10]\n",
    "\n",
    "# Test the vectorizer\n",
    "# output = vectorize_layer([[\"the cat sat on the mat\"]])\n",
    "# output.numpy()[0, :6]\n",
    "### --------------------\n",
    "def vectorize_text(text, label):\n",
    "    text = tf.expand_dims(text, -1)\n",
    "    return vectorize_layer(text), label\n",
    "\n",
    "# Vectorize the data.\n",
    "train_ds = raw_train_ds.map(vectorize_text)\n",
    "val_ds = raw_val_ds.map(vectorize_text)\n",
    "# test_ds = raw_test_ds.map(vectorize_text)\n",
    "\n",
    "# Do async prefetching / buffering of the data for best performance on GPU.\n",
    "train_ds = train_ds.cache().prefetch(buffer_size=10)\n",
    "val_ds = val_ds.cache().prefetch(buffer_size=10)\n",
    "# test_ds = test_ds.cache().prefetch(buffer_size=10)\n",
    "### --------------------\n",
    "embedding_layer = layers.Embedding(max_words_in_vocab, embedding_dim, input_length=sequence_length)\n",
    "### --------------------\n",
    "model = tf.keras.Sequential()\n",
    "model.add(embedding_layer)\n",
    "model.add(layers.Flatten())\n",
    "model.add(layers.Dense(1, activation='sigmoid', kernel_regularizer=l2(0.01), bias_regularizer=l2(0.01)))\n",
    "model.compile(loss='binary_crossentropy',optimizer='adam', metrics=['accuracy']) \n",
    "print(model.summary())\n",
    "### --------------------\n",
    "epochs = 4\n",
    "# Fit the model using the train and test datasets.\n",
    "model.fit(train_ds, validation_data=val_ds, epochs=epochs)\n",
    "### --------------------"
   ]
  },
  {
   "cell_type": "code",
   "execution_count": null,
   "metadata": {
    "colab": {
     "base_uri": "https://localhost:8080/"
    },
    "executionInfo": {
     "elapsed": 3388,
     "status": "ok",
     "timestamp": 1606469115720,
     "user": {
      "displayName": "Antoine Clivaz",
      "photoUrl": "",
      "userId": "05493898807172304624"
     },
     "user_tz": -60
    },
    "id": "q3qtrnOCqMbv",
    "outputId": "54ed7acc-619b-480b-a126-9220fc930492"
   },
   "outputs": [],
   "source": []
  },
  {
   "cell_type": "code",
   "execution_count": 6,
   "metadata": {
    "executionInfo": {
     "elapsed": 3380,
     "status": "ok",
     "timestamp": 1606469126336,
     "user": {
      "displayName": "Antoine Clivaz",
      "photoUrl": "",
      "userId": "05493898807172304624"
     },
     "user_tz": -60
    },
    "id": "zsWIcn-bqMbw"
   },
   "outputs": [],
   "source": []
  },
  {
   "cell_type": "code",
   "execution_count": 7,
   "metadata": {
    "executionInfo": {
     "elapsed": 691,
     "status": "ok",
     "timestamp": 1606469128011,
     "user": {
      "displayName": "Antoine Clivaz",
      "photoUrl": "",
      "userId": "05493898807172304624"
     },
     "user_tz": -60
    },
    "id": "5tDrVkT7qMbw"
   },
   "outputs": [],
   "source": []
  },
  {
   "cell_type": "markdown",
   "metadata": {},
   "source": [
    "## Option 2 - Create the embedding layer from scratch"
   ]
  },
  {
   "cell_type": "code",
   "execution_count": 8,
   "metadata": {},
   "outputs": [],
   "source": []
  },
  {
   "cell_type": "markdown",
   "metadata": {},
   "source": [
    "## Create the embedding layer from scratch"
   ]
  },
  {
   "cell_type": "code",
   "execution_count": 9,
   "metadata": {
    "executionInfo": {
     "elapsed": 976,
     "status": "ok",
     "timestamp": 1606469130402,
     "user": {
      "displayName": "Antoine Clivaz",
      "photoUrl": "",
      "userId": "05493898807172304624"
     },
     "user_tz": -60
    },
    "id": "QGTfB9u6Ya7W"
   },
   "outputs": [
    {
     "name": "stdout",
     "output_type": "stream",
     "text": [
      "Model: \"sequential\"\n",
      "_________________________________________________________________\n",
      "Layer (type)                 Output Shape              Param #   \n",
      "=================================================================\n",
      "embedding (Embedding)        (None, 280, 32)           320000    \n",
      "_________________________________________________________________\n",
      "flatten (Flatten)            (None, 8960)              0         \n",
      "_________________________________________________________________\n",
      "dense (Dense)                (None, 1)                 8961      \n",
      "=================================================================\n",
      "Total params: 328,961\n",
      "Trainable params: 328,961\n",
      "Non-trainable params: 0\n",
      "_________________________________________________________________\n",
      "None\n"
     ]
    }
   ],
   "source": []
  },
  {
   "cell_type": "markdown",
   "metadata": {},
   "source": [
    "## Our Twitter Dataset"
   ]
  },
  {
   "cell_type": "code",
   "execution_count": 10,
   "metadata": {
    "colab": {
     "base_uri": "https://localhost:8080/"
    },
    "executionInfo": {
     "elapsed": 1697115,
     "status": "ok",
     "timestamp": 1606470830147,
     "user": {
      "displayName": "Antoine Clivaz",
      "photoUrl": "",
      "userId": "05493898807172304624"
     },
     "user_tz": -60
    },
    "id": "JAVWJUOhaU1U",
    "outputId": "20c13954-cfac-46c3-8315-12fe4c680492"
   },
   "outputs": [
    {
     "name": "stdout",
     "output_type": "stream",
     "text": [
      "Epoch 1/4\n",
      "625/625 [==============================] - 2s 3ms/step - loss: 0.5735 - accuracy: 0.7116 - val_loss: 0.5016 - val_accuracy: 0.7803\n",
      "Epoch 2/4\n",
      "625/625 [==============================] - 1s 2ms/step - loss: 0.4767 - accuracy: 0.7991 - val_loss: 0.4727 - val_accuracy: 0.8024\n",
      "Epoch 3/4\n",
      "625/625 [==============================] - 1s 2ms/step - loss: 0.4434 - accuracy: 0.8197 - val_loss: 0.4611 - val_accuracy: 0.8058\n",
      "Epoch 4/4\n",
      "625/625 [==============================] - 1s 2ms/step - loss: 0.4221 - accuracy: 0.8337 - val_loss: 0.4554 - val_accuracy: 0.8048\n"
     ]
    },
    {
     "data": {
      "text/plain": [
       "<tensorflow.python.keras.callbacks.History at 0x7fbcd8a7f730>"
      ]
     },
     "execution_count": 10,
     "metadata": {},
     "output_type": "execute_result"
    }
   ],
   "source": []
  },
  {
   "cell_type": "code",
   "execution_count": 29,
   "metadata": {
    "executionInfo": {
     "elapsed": 661,
     "status": "ok",
     "timestamp": 1606471407424,
     "user": {
      "displayName": "Antoine Clivaz",
      "photoUrl": "",
      "userId": "05493898807172304624"
     },
     "user_tz": -60
    },
    "id": "3Y1buWTWqWUa"
   },
   "outputs": [],
   "source": [
    "test_ds = tf.data.TextLineDataset(\"data/test/test_data_textblob_clean.txt\")"
   ]
  },
  {
   "cell_type": "code",
   "execution_count": 30,
   "metadata": {
    "executionInfo": {
     "elapsed": 730,
     "status": "ok",
     "timestamp": 1606471408890,
     "user": {
      "displayName": "Antoine Clivaz",
      "photoUrl": "",
      "userId": "05493898807172304624"
     },
     "user_tz": -60
    },
    "id": "w00i1zxKrZI_"
   },
   "outputs": [],
   "source": [
    "def vectorize_text_test(text):\n",
    "  text = tf.expand_dims(text, -1)\n",
    "  return vectorize_layer(text)\n",
    "\n",
    "test_ds = test_ds.map(vectorize_text_test)\n",
    "\n",
    "test_ds = test_ds.cache().prefetch(buffer_size=10)"
   ]
  },
  {
   "cell_type": "code",
   "execution_count": 31,
   "metadata": {
    "executionInfo": {
     "elapsed": 21335,
     "status": "ok",
     "timestamp": 1606471430973,
     "user": {
      "displayName": "Antoine Clivaz",
      "photoUrl": "",
      "userId": "05493898807172304624"
     },
     "user_tz": -60
    },
    "id": "VTETIcM8qRXZ"
   },
   "outputs": [],
   "source": [
    "preds = model.predict(test_ds)"
   ]
  },
  {
   "cell_type": "code",
   "execution_count": 32,
   "metadata": {
    "id": "mDvNAkDUJF72"
   },
   "outputs": [],
   "source": [
    "preds = np.where(preds > 0.5, 1, -1)"
   ]
  },
  {
   "cell_type": "code",
   "execution_count": 33,
   "metadata": {
    "colab": {
     "base_uri": "https://localhost:8080/"
    },
    "executionInfo": {
     "elapsed": 896,
     "status": "ok",
     "timestamp": 1606336421802,
     "user": {
      "displayName": "Amine Ch",
      "photoUrl": "",
      "userId": "16292592810935337482"
     },
     "user_tz": -60
    },
    "id": "wpFRa31zltiL",
    "outputId": "4075e0fd-6845-4355-81f0-399fe3722993"
   },
   "outputs": [
    {
     "name": "stdout",
     "output_type": "stream",
     "text": [
      "Done. Predictions can be found in predictions/preds.csv.\n"
     ]
    }
   ],
   "source": [
    "preds_path = \"predictions/preds.csv\"\n",
    "with open(preds_path, \"w\") as f:\n",
    "    f.write(\"Id,Prediction\\n\")\n",
    "    for i, y in enumerate(preds):\n",
    "        f.write(str(i + 1) + \",\" + str(int(y)) + \"\\n\")\n",
    "print(f\"Done. Predictions can be found in {preds_path}.\")"
   ]
  },
  {
   "cell_type": "code",
   "execution_count": null,
   "metadata": {},
   "outputs": [],
   "source": []
  },
  {
   "cell_type": "markdown",
   "metadata": {},
   "source": [
    "## Option 1 - Create the embedding layer using pre-trained Glove embeddings"
   ]
  },
  {
   "cell_type": "code",
   "execution_count": 19,
   "metadata": {},
   "outputs": [
    {
     "name": "stdout",
     "output_type": "stream",
     "text": [
      "Found 1193514 word vectors.\n",
      "Converted 18556 words (1444 misses)\n"
     ]
    }
   ],
   "source": [
    "# Adapted from https://keras.io/examples/nlp/pretrained_word_embeddings/\n",
    "\n",
    "# Get the vocabulary from the Vectorize Layer\n",
    "voc = vectorize_layer.get_vocabulary()\n",
    "word_index = dict(zip(voc, range(len(voc))))\n",
    "\n",
    "# Load the data\n",
    "embeddings_index = {}\n",
    "with open('data/glove/glove.twitter.27B.100d.txt') as file:\n",
    "    for line in file:\n",
    "        word, coefs = line.split(maxsplit=1)\n",
    "        coefs = np.fromstring(coefs, \"f\", sep=\" \")\n",
    "        embeddings_index[word] = coefs\n",
    "\n",
    "        \n",
    "print(\"Found %s word vectors.\" % len(embeddings_index))\n",
    "\n",
    "# Create the embedding matrix\n",
    "num_tokens = len(voc) + 2\n",
    "embedding_dim = 100\n",
    "hits = 0\n",
    "misses = 0\n",
    "\n",
    "# Prepare embedding matrix\n",
    "embedding_matrix = np.zeros((num_tokens, embedding_dim))\n",
    "for word, i in word_index.items():\n",
    "    embedding_vector = embeddings_index.get(word)\n",
    "    if embedding_vector is not None:\n",
    "        # Words not found in embedding index will be all-zeros.\n",
    "        # This includes the representation for \"padding\" and \"OOV\"\n",
    "        embedding_matrix[i] = embedding_vector\n",
    "        hits += 1\n",
    "    else:\n",
    "        misses += 1\n",
    "print(\"Converted %d words (%d misses)\" % (hits, misses))\n",
    "\n",
    "embedding_layer = layers.Embedding(\n",
    "    num_tokens,\n",
    "    embedding_dim,\n",
    "    weights=[embedding_matrix],\n",
    "    trainable=False,\n",
    "    input_length=sequence_length,\n",
    ")"
   ]
  },
  {
   "cell_type": "markdown",
   "metadata": {},
   "source": [
    "## IMDB Dataset tryouts"
   ]
  },
  {
   "cell_type": "code",
   "execution_count": 12,
   "metadata": {
    "colab": {
     "base_uri": "https://localhost:8080/"
    },
    "executionInfo": {
     "elapsed": 1697115,
     "status": "ok",
     "timestamp": 1606470830147,
     "user": {
      "displayName": "Antoine Clivaz",
      "photoUrl": "",
      "userId": "05493898807172304624"
     },
     "user_tz": -60
    },
    "id": "JAVWJUOhaU1U",
    "outputId": "20c13954-cfac-46c3-8315-12fe4c680492"
   },
   "outputs": [
    {
     "name": "stdout",
     "output_type": "stream",
     "text": [
      "Epoch 1/3\n",
      "391/391 [==============================] - 1s 4ms/step - loss: 0.4947 - accuracy: 0.7468 - val_loss: 0.3053 - val_accuracy: 0.8754\n",
      "Epoch 2/3\n",
      "391/391 [==============================] - 2s 4ms/step - loss: 0.2424 - accuracy: 0.9060 - val_loss: 0.2741 - val_accuracy: 0.8853\n",
      "Epoch 3/3\n",
      "391/391 [==============================] - 1s 4ms/step - loss: 0.1742 - accuracy: 0.9366 - val_loss: 0.2921 - val_accuracy: 0.8766\n"
     ]
    },
    {
     "data": {
      "text/plain": [
       "<tensorflow.python.keras.callbacks.History at 0x7f90c60a3640>"
      ]
     },
     "execution_count": 12,
     "metadata": {},
     "output_type": "execute_result"
    }
   ],
   "source": [
    "# Taken from https://www.liip.ch/en/blog/sentiment-detection-with-keras-word-embeddings-and-lstm-deep-learning-networks\n",
    "\n",
    "# Import the data\n",
    "from tensorflow.keras.datasets import imdb\n",
    "top_words = 5000 \n",
    "(X_train, y_train), (X_test, y_test) = imdb.load_data(num_words=top_words)\n",
    "\n",
    "# Truncate and pad the review sequences\n",
    "from tensorflow.keras.preprocessing import sequence\n",
    "max_review_length = 500\n",
    "X_train = sequence.pad_sequences(X_train, maxlen=max_review_length)\n",
    "X_test = sequence.pad_sequences(X_test, maxlen=max_review_length)\n",
    "\n",
    "# Build the model \n",
    "embedding_vector_length = 32\n",
    "model = tf.keras.Sequential()\n",
    "model.add(layers.Embedding(top_words, embedding_vector_length, input_length=max_review_length))\n",
    "# model.add(layers.LSTM(100)) # [0.8755, 0.8730, 0.8764], 2:10min per epoch, and my laptop was about to explode\n",
    "model.add(layers.Flatten()) # -> [0.8737, 0.8783, 0.8844], 1s per epoch\n",
    "model.add(layers.Dense(1, activation='sigmoid'))\n",
    "model.compile(loss='binary_crossentropy',optimizer='adam', metrics=['accuracy'])\n",
    "\n",
    "# Train the model\n",
    "model.fit(X_train, y_train, validation_data=(X_test, y_test), epochs=3, batch_size=64)"
   ]
  },
  {
   "cell_type": "code",
   "execution_count": null,
   "metadata": {},
   "outputs": [],
   "source": []
  }
 ],
 "metadata": {
  "accelerator": "TPU",
  "colab": {
   "collapsed_sections": [],
   "name": "project2_monday_23.ipynb",
   "provenance": [
    {
     "file_id": "1EDUdYe663AQXpMGF6Koh9p8iluW1pWp4",
     "timestamp": 1606154618402
    }
   ]
  },
  "kernelspec": {
   "display_name": "Python 3",
   "language": "python",
   "name": "python3"
  },
  "language_info": {
   "codemirror_mode": {
    "name": "ipython",
    "version": 3
   },
   "file_extension": ".py",
   "mimetype": "text/x-python",
   "name": "python",
   "nbconvert_exporter": "python",
   "pygments_lexer": "ipython3",
   "version": "3.8.3"
  }
 },
 "nbformat": 4,
 "nbformat_minor": 1
}
